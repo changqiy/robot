{
 "cells": [
  {
   "cell_type": "markdown",
   "metadata": {
    "id": "t0CF6Gvkt_Cw"
   },
   "source": [
    "# MuJoCo basics\n",
    "\n",
    "We begin by defining and loading a simple model:"
   ]
  },
  {
   "cell_type": "code",
   "execution_count": 1,
   "metadata": {},
   "outputs": [],
   "source": [
    "import mujoco\n",
    "import mediapy as media\n",
    "import matplotlib.pyplot as plt\n",
    "\n",
    "import time\n",
    "import itertools\n",
    "import numpy as np"
   ]
  },
  {
   "cell_type": "markdown",
   "metadata": {
    "id": "u_zN8vATwcGy"
   },
   "source": [
    "# Example: A chaotic pendulum"
   ]
  },
  {
   "cell_type": "markdown",
   "metadata": {
    "id": "g1MKUEL_eSCM"
   },
   "source": [
    "Below is a model of a chaotic pendulum, similar to [this one](https://www.exploratorium.edu/exhibits/chaotic-pendulum) in the San Francisco Exploratorium. "
   ]
  },
  {
   "cell_type": "code",
   "execution_count": 2,
   "metadata": {
    "id": "3jHYTV-bwfrS"
   },
   "outputs": [
    {
     "data": {
      "text/html": [
       "<table class=\"show_images\" style=\"border-spacing:0px;\"><tr><td style=\"padding:1px;\"><img width=\"640\" height=\"480\" style=\"image-rendering:auto; object-fit:cover;\" src=\"data:image/png;base64,iVBORw0KGgoAAAANSUhEUgAAAoAAAAHgCAIAAAC6s0uzAAA/TklEQVR4nO3d65MsyXnf919mVs257S4WNy4IEheTBE07KEbYoi36xghZEYrQC+uF3vkf8F/k/8LhCL9QhK2gQqYdtGyJVMASKcIQAO7isgSpXQKLPWfOzHRV5eMXWZmddemeOad7d2qA7weIszM92X1q+nTVU3l5npQAAAAAAAAAAAAAAAAAAAAAAAAAAAAAAAAAAAAAAAAAAAAAAAAAAAAAAAAAAAAAAAAAAAAAAAAAAAAAAAAAAAAAAAAAAAAAAAAAAAAAAAAAAAAAAAAAAAAAAAAAAAAAAAAAAAAAAAAAAAAAAAAAAAAAAAAAAAAAAAAAAAAAAAAAAAAAAAAAAAAAAAAAAAAAAAAAAAAAAAAAAAAAAAAAAAAAAAAAAAAAAAAAAAAAAAAAAAAAAAAAAAAAAAAAAAAAAAAAAAAAAAAAAAAAAAAAAAAAAAAAAAAAAAAAAAAAAAAAAAAAAAAAAAAAAAAAAAAAAAAAAAAAAAAAAAAAAAAAAAAAAAAAAAAAAAAAAAAAAAAAAAAAAAAAAAAAAAAAAAAAAAAAAAAAAAAAAAAAAAAAAAAAAAAAAAAAAADwi8Td9wHg59Pfli4k/xV9+WuyL+0f936lsXOSZDZ/fNnYVR/Yuv3xljFOvi1fu8XHP73mauPV9jHuf7T86fJQj/zVq+1vbenc/hiON16+vYcap5Z3PIb6b3/txstjW7Y/9I+lOx/wrNny33p5JP+TST/Qr7yv999fP0LgFARgnNl/Lv1X0rO/q/Y9BSf/92RfHy9zRy7Nyzi3jLWHotfs8VlgNjsWROtXdm7S+NCluT681Qe1CAZ3OYa68V1all+wvgk4/rL1iy/f3vpHh47BbH4MxyNo/crpXiH9ixxvWRofiqPH/7oj7WcvO3tPZsfwntP3TO8O+lqndz/WzT/XX/3x+t8LvB4CMM7md6Tf/5Le/nU9+b/USuE3FL4h+/vjT8tVL4Txi3SlK53X1e5O3bj0Mp1zwzC71rrScvYKzmkYJo8cOYbSuBaCy42ttFy+5qxlOs7SZu1l14/h1sblL+17c4sYNXvZ+n3o+0lLs7rx/oCrYzBVAWn22x05Wu9TS9M0yB0/hvQBqH+h8sr5L7T8yvNjcM71/f6R9MMQ9jG13Cikv2UWqtObX0J1afw/Rpnp8YVe/kxfvtYf/X/SH0k/nv++wOshAOM8fueL+ru/rree6Ol7evQNNe8qSG88c5f/wz5IrHZo7j7eWx50zplNYk+Kzauds2ljK0FxtfH0WfsL8fJgQnAxzo9BBzph3jszS6db3VeO0aa/qUuNq1eeB5Wl6hjsSEvvXYxxecrbWmvn0jHsA1KOZOuNy+NVb/LYwVRt3PJlZ39p1eDWxmOD6oDnLV/pGL7j3D8ezKJ+rVPs1V3qu881/KH+6psHfyng7gjAOIN33tE/+j19+c/17BuyXm1QcGqC/D9cD73lculc/o9Z3V9cPGsSPteazZ87e/ray7pZ4/rx5eunK/VssHrWAS2vUGL24pCOnXFHfpqju93adhkCU9MUlpbN6sbLW40SRsu31RPnAa1uvJhwteUNSvo7p688ueGY3Setvv7yXqoOpbPh5cUrL+8bZr+T/uBCl5dmUd/e6c1Wv/Qz/fTHuvzf9ed/Pm8JvKrmvg8APw9+93f11gdqncK7il9T+K68k3PO/TvpP5z0z0pYSkEh/cA5y8G4blzH2rpluUqW0chJm+pZKfDI+/01OXdtLf0VyzCWep+lX1Vfqeu5w/SXpi5sfuHyGnUAcOk1UyfYOVd+tWmM33fCcuPJUS3C+f43qobuxx/Xv++Bl90fQ920vP4wWO611688fxPSI2lmd3oYqQ9qi7d37JtW/4Ll1mo+hLCIhctXqw8mvfL+jS1zFrNR5fzvbvlvLx+t+f2Hmb4t/esbWZBFPX6qr9zoO16feaKv/2cEYJwBARin+o/f0Vc/ULhQ//tyfy11kuT/O+e/I/dbWvaTXLUgaDp8WkfcOtQc+pvrOGezls65HK0txv0rl5azsFr3rY8Mn9a95CODq7PG5RiWAWn2jPSf5Wrh5V83e5fqFxyGlcaH1jStHY+Lcf+mTY9h5XcuE6uHGi9C4OyvS/8cy/60HfoYzPq40+A6qv+62Xxxfe9Vx+zq6eM9xG9J3/aKg8xpuNHNTl8a9KutvvtMv/3b+rM/W/mtgbsjAONUv/Wbar4o+0D+Xe1+U+Ev9Oabuv6O98E1bWM2Xpud8zows1vWKpcOpc9LkhbtU+SL3vv0yn6RgTR7Sul9pmM4FISqvlScHcPqy6bubIwxx+9w4IBXG+9feTHMrhij9z7GQZL306VlUzEO3oc4Rj873tj78RhSmKkar0RV7236z7GcOa4PIx1wnP1qR25Q0m9XN16+eHnT0rfln+PwVK7yW1H/283vzHJjF6PlOzA//emk8fvN8KuX8f237L/4Seylb0k/DPo7rf6aAIyTEYBxks9Lj3+qi17+19W/r8bkpRe/Et542l78kyf+v3d1l7EKqymO7pfPeh9iHOqB3NzYOad8cZ81Vn41eR9Kj7D+UWlQhBA0Xty99pFgf5C1EHxu7JxzwzCUlwqhHYb+QGMvadq4qRs7J+/3p16Mk9fxvo2xmz7SpHuO2csOw+D95JYivWyMMf92+1cO4WIYdunrFGNCaCSZxfSmD9Vq5tkBS/I+lL7m4hdvhqGv41b5t5u9bLYPiqll6ezW/3bLGV/vg2RlucAw7PvdITTD0GkfvMd/jjKhUD5sZvI+TI/KcgxeOeD3nGveuPnS31z9r4P7e9EU9VVJ0p9d6Otf13vvLX454M4IwDjJZ39D7Zd1/VRtlP+Bhm8oyIXWN//w2aM3Hz1646KOarM4V6YJnfP1qub9f93kialD5v2+cZ44nK+EKquL6273sq+ZlA5gCgZHVnKp6h9r0adfRvF03zA74FXVgqnJW3Gg8WRQ4bjpAb+ZHjvQcmx8+BgmQ8pVl3c2ea+6maqOaW48+ensiaXLm3+71fbjNzkbrXRkl/1dKyF5+tvNRqcnTzSz9If37h/tut/7+Pp/ce7XTHGQnIZePzD9sul7t7/9wDEEYJzk7bfVvS/9huyP1P1AIUrv6cbHp39o7lkYguI/mKzGTR2e8m1Zg5NnhcukrJNsDIjTEJgmOL1PnRuVdTTez1vWa52qxvLeli+r8Wq+XwyVvq7Si9NPxx5n31vTlFd2uYu2f2eck5T6rGWZktW3C9MR7v03uVrFJPCUHNy68cVFb6aua9INx1rLsbGZhsHS71IHnsX4/di4HLDynL3Gt8xmjdMvGMJ+vHr5ymZe07hYNXY5W7e8+H6oOT2e7yFc+nfXOHG7/zeSXN9b/lH5R0xvY33MPr1m/WErf1F9wDGO67P+sekP2vZ/vnj0/HrXS18zvWf6fa+Xg942/fT2OXXgGAIwTuL+ROGLcv9WSpe9d2Vu/NpJ/n9T18f+70vjqihpf/Edr14pYNikBNW4BGbWuISWNK2b286XYs0az463/C11OJz2p+em63LHih/DYIu/og7ekly5pi+zlvMx7J9cXm3tlccDVl40FIL6/vqttx7HGF+8uGyax8uWmobkvremcfXjdePFauH1Xni16rv+LWw2SZxjfCwHXL0Vk07n6jGv1itNvdLlb5c+LdNjsGqFdv2yLk8VT46n6nzv//W81z8J+qeNd3Ly4yfkPSdJ/+cgSV+MGt5eOU7g7gjAOJV9oHqscN/dcE7OXfyB2+366/+2dG1r+7BXLvezta/Tp+RAmR8sEfdAgkpJ203zi1b3iRftx/DpcxLPkWFg51xJ6VldGPx6jae3IJNoNzMML5488V0Xmqbp++sXL669f3r8lct7dORli/qAb/0FqwNeWwyt9DpjjDcbI+Whwyj3AXWAP7T6ejqaounL2qJxetBNX1nL9mb6w6f+n7Vl3Vf+h0tP9JL0waFfFbgzAjBOki5anfQkP5KuWcMwlCHLi39qz19cP/+vh1xwQyH4Wczc7YaLi3G0t+9jPbbcNPPFvX0/tG1TvlbuBoVpOcoUdXa7/uJibNx1+xVMi5edR/G+H0qNp+Ux3Nz0jx7Vx+AOv7K6rl8e8KFX7rqhbfdvRXm8aUrH8OrRo+7Jk7ebpkkvdXPz8cuXL/v+omocZhFoesDjorYUVqpXfuUDNkuNQ904Rarly87kxlJewnbogLtu/6+staXvqwecbnhmr2xmXRfb1k/fCmdm5YD/2SP7l28/DZJTNZ4zc/ttCXALAjBO4qrZy/oate/RSpKe/R/uo59dX/43+wZpCWu1oNcePaqv7JMLXn2lbppQh6ilErRSpO+6fWhfbXkkFi6PoTQeBivh4VDjEoeOHIOkrttH2bYN9R3DouXwxhv21ltWn7npsJ27evny6uamqRsrp3hJGob46FF7+BjG1eBmaltf3w8dalz/dof+OW692zjSePGRmDWul0AfO4aq8XgMu11/6Lfruvj/fCb8ydtPnpXQa+PK+X3ELQU9icE4DQEYZ+DzFSld57z3oWQcSU6KZs/+SJdXuxf/5forxKjr60lm0WEp42WS1XPcy5d3bNzNRjqPNI5RV1d3PQYzXV7uM4tuPeBDjZ89s8ePvXMp12h8u1LajHN6/Lh/8WJ3ebn+6jHe/X145QM2u2PjT/AdvvNHopd0dbX+Yfvnb+hfPZ2M5ptZTPlOddCN9bI54DURgHGSmK9Ide5knFZdKr3hN/9vdYM9/zuqfnTsxeuLdd2yXkSzbDlrbAfrG7/yMdSNl8fwSR/ws2d6443Jk+onpi/eeENdZy9e3OkYPukDXm28dPdjONL4lY7hUON/+ab+xRuuibFea+BmRUjSdweHEoBXQADGGbSS5TQdy6OIrqx7lpQvZ2/+C3WDPv5dVY9L1TXx+Iqf4xfZZctXetnldflc3GIbvuONl0d7caGnT6W8cNp71zTBubGYRno8HfyzZ9rtdHl5zwd8unQMr/QPd0rjf/WW/vipXM7btjK+XD7WhZduXulXAdYRgHEqJ/XSozza7HISS0oNUUkKyXkkz/5E14Mu/9ODL7hcSzvrCaXE07pxiQHLPlPdkbp743qX+0ONZwd89mMojdtWNzfjgyHUS5rny8VTm+fPU+Lv5GU/uTetfpam8fge/+GKuxzDN9/QN9/YT6U459y+XIyT5X5wWegfcmAGTkAAxkl8nvdVNTs2BoecA5SCQ6h2ab/8pppeL35n/zq2tq9crUo9uv2o6sZ3fNl7PIZbG/e9vvpVDcP+R6UKY66bmG5xxtyhd97Ru++O7euX3e3Oc8CnvA8bPIY/fUN/eil9IbVIf9g+uI7d5SoNCTgTAjDOYFjN1HCuftCqvsk70vf/VK7Xy/9o3/zunZj6KUuHejx3edktHMOscduqbeX9+ODqIHkuojmpI3F9PekEn3IMxxsnZ3/Zuzc+5Z/422/pWy+kr+cfO8nJxgqXi9S0qg1LoHE6AjBONanYW+cBZ5P0pOrrl9+SOr34tf0j55oA1qv0kF7vZW9tfJaXffRIbavPfW58pB4YlzQMQwih5O3U4edzn9P1tXY7XV2degy3Nn5YL1s3/otn+t7H0tNqGEeS5OvUYbdIQ1ov9QG8MgIwzmCWU+m9D9P+WslKSpcsL70jvSddflfdSz3/siQ1iw9jvQ5otnDGTG273ni5xGb2ykdeNkZdXKw3Xr7s3Y/h9V42Dd4/ebJvVl4tSdG3/DR/t/fihX72s1c+2qZR100aP5R37C6/WvGjJ/rRpfRM+qXFXeR0GnhIGV+zzjBpSDgZARgnKWlI+0oHlTIZPJT9cKqfpivY1V/q5UtdfkZ9nzYAkNaCcW22QPfWxuVljzfe2ss+e6Y335xEmtmAaoq3pf5XXUEz70ygy0u9fPnw3oSm2T/lLC+bWpaXff5MH39eerPKYdf4idwX1EzD0bOSmanxsYIiwF0RgHEeaVmody5KZjYMQ11md4ixHwZNczrKsN/1R/r+R5/2AW/fL/+ynNNnPjN/PAXXMsi/tuGuJL31lj74QB99pB//+BM8yIfq16VSO6Rez+zUXrShCXkXQznnQgjBhz72svlgNXAKhlFwqhJmUwKSl8ysqcZDTWryoHTdA/5S/pZr2hF5FfnY0cx3NW423FztZrFvjIOu8xefm34oTcMwDMNQqkA758ZbnNRXHtc4KP0UOAUBGCepP0C2+JEb0yjNOdeE+bDdcOCJKHLSUf2ISQrBpRuaegfG2bNWK0lh5KUmZ/QmJUmufOvGzRicnC1XefGpxck4QXEG9X4MpYc2L5O45vP5WbjVMpp67y4uyuqj/QRwcnye9RddGiH4/OLxeYGT8dtJHvAsVAOvi3MUp/J5Nq2+OpWJyZIKnNZhLWPtwKXssFT8OS10inGyCDzt1BtjzGlI4zudtj9Kb//TY3sE/2JrpisRpiP2cYj1pzksBm9GfHBxGnrAOEm6BJW9Z8sVaTbgPEtDql2wpPSwKuNI3ss5eZ8G9cdS2ykMe+9TNW4zxagQdChkYN00DSmE4LRPQ5ow4i7OhgCMk5jmaUiu2i99zFLN3d+CVI47KtU8pyuwRnkjwrUZStzK5z+nVSfjMPmsWrRxOKcOx4FrJ86AIWicR7o6pYtSyaQcFwjlmckyqleHi/UcGmTLCfTyfs6GRqd7T33Ch/XQNVJ3YMa3cHJy4zYM0yANnAV3cTiVSf1aLejyyLJ3lnodqST+Zz/xA3zYyo495c9h2L+jzrmmOViIg2Skg5z0tuTz9EnMgzluMeO7GnEjA9E4AwIwTpI+QE296UL5ol4yNP1RunyVdTCMwxxSClotHwzBr24VUB4j+h6zk6I05M+izzeMB9608a2eVYGmN4zTEIBxKjddwrJPpKx7bdPtCDUdjr7z1u+/iJxb78523fi2lZng9G1qRvS9RcxbWK9WT9U0uM7SkHhvcSYEYJxBt/poXoGVvojTmFBf97igrSqJv3UhjphLE6eR59Vc63pTQmpxrCujLuOyhfytk9y4DivX4VgoQ9SMQuM0nJ04iS3G4ertCMuPSlbStOqfJDUMQR+2thNDSvYdvykTlvVU8bQ9Dkjv7bB4JG1HWHWFD25HCJyGcxRnEKaDc977Zrod4eza5dcG/zBTomkKpbk7azGamfV93/e9c75tmxC894rRzJRSgZcvgnV1hWdJkqWaYjkCW7QxMameQYlcO3EGfIhwkhJEJx2JXPRqDLfOxfxIHaeb/MQnn8qhPkQxTlKBzVIVaG9mTdM0Tdv3fd8PZpZ+lFqOHTZucI54K6/dr6W59pIHvDoGnR5o5w8Dr4EAjDNoNFnh7JyzvF/PuGdt7hNbtdQ0Vk/BKuf2OytU5TjGN7vaiLBOTJp/gVuULRlyMtIQx800zZlzblyEta+qyrpBnAcBGKdyUp+vYF5K2xE656JZ2qAwlSzuh6FMGNerWHb3c9QPxlohDk0XmJfHCbl3djUtKjnOnUhOoQlN05R9kJxzMnnv95sBhzy8w/uN0xCAcRJ/uP86JhodKNtUns5g3nHLQhxVgeggachDpmOmTNWGUehjLvIXdTQ1Kd9B7n+aJ4aJuDgvAjDOoJ4AjuUyNe2QDcNK0cm6jjSOq5KL6pKTZUfCSbBlL8JbzN6fWTnotGThwHYMs50bgNdGAMapSjX7uhz0MAzlwUmN4uqJlMG6VdoBKZkNMJe86nRnU7rFZc6YWhy3OLwdYf75GGNDM01DivsWwCkIwDiD5ccoTNOQyvjzrIRfWtfCKPRxdXGreki/vrMpS6A1LcSBO1lsR1iWQDu5oa8Gb8onmPcWJ+NDhJPEaUdizDuqa0ZIzrnV8efU92U96RGzQhzOjTsxLAtx1BPACT3gY9q8lurIdoROTm5fwa3OA2YrTZwDARjnMW6u6pyTvPdt08SYKkaYnBuGoR6UXtYgwhH1QHTTOO8Vgm/btm2b6+ubvu+9DzHG/S6Qllre0+E+FGX9/XQkuX3UhibIxj5wjHEYhnEVtHHJxDnxacKpYtWFMDOTcpEm551L28WHEEIIy7r3TuqIxIelqdy6H5we6fu+67qu6y8umrZtzaL33nufWpY9lFgFfdBV/mKYV2Ub+iGNOac54KZpQhNijJMdN9OtDouicRoCME5SD+Aduto7M1XloMcHcx5myyrow9JWSKUcR5YXB+UdCRcVP6XFoi1M+Fw+JkwzevebeVXfunHqfb8qmv2AcQ4EYJxB/TEqmxLm2LBeDhp3dGRat+u6/LiJQhyv5Hj2+vilK73e/XaEjjQknA0BGKfyeTvCfTKSc8MwzOJBHAa31tNg/Pm4uhBHvTGwc65Zm+Y1m/+JFeWdq9OQclc4DlFun4ZU3udSBHTSPwZeFwEYZ7D8GE0eca5JWTJrl6xHpCG9lhIMmmYsjVhPAK+VHcNt8oCzD/vPr5ObfGqNKROcDQEYJzmUhhRCqEtwDNPB0/SxSzGCNKQj6vXPmXnvJFcqUPZjlmoe6s/RgjSkW5RPYRlVri+HTk7OyUWLwzBMVmCJ7QhxHnyIcGYuFWlyTqVHkWNIGaMmNLySuhBH0TRB1Xtb16csjSnEcVAr7aYl3LIY4/iujsP+1ZtYwjCDNjgHTlCcyqShWkka1yJu6Q2XVSy+ysNkGviQWSEO5cga8hhpKcSR1mHVU7/0gI9JaUjj7l3VSI6T997MyrejKJmcufGD7pgAxhkQgHGS9AFqck6Hr2YjyyTluMtq/r5c7prp9sA4pO6DpZ6u996V3Bg3b5ne6JZe2hE+J8DF6oPrxqx259x4E1mKega/v5206bJD4HURgHEGdV7GPpEyd3mTQ9sRUlzoCLOx8kZKBS6xtuv69NNU47OMP5d1WM6p61gFfdjRm76y/rl8fPdpSKLvi7Ph0oeTpGvRsf5ADsPD2pBoGr6mB3xECPJeeVZ9RZXuZfkRmdEDPqqkIaVLYFQ9HzxuR6j9TPBEupM0IjFORQDGSdyi+1u2I9R0p/PSXtOOBGlIxx0pxBHjOHue+mezdVi4Rfr89YtH8miNOUuf1LId4dgzNgafcR4EYJxkzDuaXpHGNKQyS3lgO0JSVe+iLsSRdxtMda/WR/Uph/Vq0mf38Gdxvx1hfdtIGhLOgQ8RTlLG4Yb8rRbb/ZbtCFerRrME+vXYtLumaahOjzEHfFAr9Ys0pOl2hM65yXaEVRsGbXAWBGCcQSu1Vd/AzPq+T1euNFzXhNB4b/nbIbdMiMGHHC7EkQf5y81N2SYgzr/ALcqKK+dkMrNxN6RoZuaca9rGez9uyRClgfIxOA8CME5lUp9XsYx5lWZN05RV0GbWD0NfdYJD9VzRnbhNCqWL7qzb51uPmTPzp1CI46CblR2NzExu3H9QkvOpGpbr+37MDE4jz2URFqP9OA0nKE5y5BI024xhNg2c+CqpEkvLMeRSiCNVwlqdBqYQx+2i9Gjt8bo3XO8/CHwCCMA4g3oMeXbZz1X93KE0pOVTMJOC7PHVVXkhtJRD79pWScgOvTlOksZVV+Ux5yZ5wGQD40w4R3GS5e6odRqSypLd3JWb1bR3fASPck4xahj25ThyratxetIsptKJ6UbHTN7Lew2D+p5FWIe56d3fbKFVudkZV7QdSEPi7cVp6AHjDJYfo6YMjTqnA2lIBXPAR3ivEMb/K8eGHH0tRosxeh9yuc+xYFYIahoC8B3U+yCN4dXq7Qg16xDP7jSBE/AhwkniWkcibSCz3I5wFndTTGYJ9BGl/GS9IVLpnpWF0Gbro/jkBB/U5I0INU+bi0NMU7/pT4vzspQSOew4DwIwziNdnca6fmlDN+fMrA7DszzgEnqJwUfMgq6k8kaO1U7Ko8TbV1J245qOE4QQ6sCcEpD2eI9xPgRgnMpy9tHMbKcetxh/TvPBLIG+VdlkMPeGS83n6fB+Wic0ho39I1hxJT2WJA2LvQVd/eWBeBvnLYHXQADGSeoVWLPLUUybEi6eUhqnuhxMAB+xmsibHgzhlpOXNKRb9JJJYZrRu9/MK303loN23kly5vbNuLnByQjAOEmpBa3pZLBJ3rl6zfMyY3W1MiVmqpXPqXc7vlu7XZd+WmaClfdBEoU4bnXovs8tvpBUZoJJQ8JZcYLiJCkNqd6OMH2k+n4s1rdfh5V2rs1PtMVMMJZSHO37+SOSmqY5NOdLIY5XsJaGVJLoZtPqNou6xGCchgCMM1iuCfX5ypXygFcLNiWPSAW+TXrz6u5sGX9ucrmNskVSQSGOV1btb1HP/o6f3tLxJe7iTAjAOMmhNKRwoHpTPWSdYjJl7Y/I070yU4ypa2sxmpl1Xdd1nXOubZsQgvcubdKQmqVCHHSCD2qqT6GbZgNPxRjHDnH9WWY7QpwDHyKcU7pG7XdwG7tl8+0IIwtIX8UwjPWtnJP33nsXo7Vt27Zt33dd18c4VuQolbBSIQ4cs1vkAUuqxp9HpU298pmlgzgHAjBOZXk96X4BacoALtKCrLw5ksu9jnIBpJ92yPROZt6jHYaUQ6NDhThYhHXQlaS8tZFVAzgm773JSvFn55zzLm2UNI5L+7yIn7tInIYTFCdJH6BSVmicJjNzzsU0VCpFy+o9g6VmfQUMJu5QXaNsSkhAuLOQP39DTkZyY2R1+5vFtLDcWTTv/f4GMzJxgvMgAOMMVrOBUzGsZRqSLZ6II+pKWPVmR8orsNK+hForxMEc8EGzxfc2/8K5sbub+r2pB0yXF+fFBRBnUKchlWv+7Ho1n1qTJBlpSEcdKsTh3L5nfKjfS/Q9pkzipnd4mv67T0PK9Tgmyv0my6FxGgIwTmKLz9B+O8Jq0reov06Xr0esaDmqxNpZQO3zFj3pi1J1sp4tPpz8hayvFlhls6y5Wa4XUyY4FwIwzmB5nZ9cwpxb3Y6Q6HCrdMGvxw5Kf7eMPLtxz1o3exY94FuU1CM3nUSpOUnqh378ab2On2snTsaHCCep11Upfx1SRmqpjZXTkOpnFQxB31Eajh4Gk1zZByl1zpxb2TSJNKRj2moVflGPP+ehm31OXT1YzaANzoEAjPNocv1n75z3vm3bOC6DNkn9MPTDoEUvIiEGH1KvqEoJvm3rQ5D3vmmatm2vrq52u877EEelXgeOeilp2vG1ceHVxaOL0ASZnJyTizH2Xe+91yDFvHAaOAcCME5VesBjRqpZ3/epSFNK/zWzpmmaELTocqTn0p04pA6lucSVDYO6rktv8sXFxcVFa2Y+VehwY5zGLYLkp6E0LXU2Df0wpGl1mcnSjU60KC/n3Jg6PJAHjDPgTMVJlouqVi9K7kA5aC8ZWwIftrq0qgzhry4sX3065oYDaxDqNKTlt8BZMU2Ek6TLUh0H9mlI4wZ5x65cKQ2J1UJH3OXKnyphESRewdHtCPc7MZT9f3NhLOnwii3gFdEDxqnKZ6heeFU6Z+OVy2wYhtVKBqQhHVevrqrzkdLAfm7lZm1YCH275S4iyuuw4mRoIZRSJ2xHiLMiAOMk47Ln6beSQtOUAolalMGip3ZHBwpxuDq/Oi+Ethj3ASEEou/d1Psg5U9n+rja6gh+KRzNtRMn40OEk6ymIfkcN8qg6BDjMuim+rssKT2uFOKYDTCXMYa+7+tbGrN9VhKFOA5qcwkOzctgxSGNOYyf3hhjWpM1uW3kjcU5EIBxTunzFKvFQq4Kw+UKluJ0Cb3E4EPqQhylR5vezlKIQ2OQnhfiwF0deLucc04u+DBpxugNzocAjFPZfiOZQy3Wr3BpFLVlDvhu8gSwSQphPHOrKon7PxOSkW6RbmiGvLegxo+yD16Hxp9zm8newMDr4hzFSZYLQsuoXrqEWdVzmDVLP9qRhnSbOpSmkpMlANdSErBYe3UXV9KjvBGhVZ/a/TCDU1p15fbD0c7c/oPLMANORgDGGaRButlksJ+mxYS1QhyqnoJV9ZtYvu66cUPavu/rx1O3LQQ5x0D0UasJmId7tKQh4ZNAAMapvLRb/UHeDSlJi4Zm08AiFf0os5Wx5Ts+kRh8iyNpSGU7wunKN9KQcF4EYJxBvSZ0lgesOxSIYA74iPrNW1bCGkdKU/fMuVl7vJochsesuRxfQzNd9EzcxZkQgHGSac9hFLxvphkwszzg9LFLD7EE+rhDhThUrcCq1T1mJoMPavPnL1TbER64HE7SkEq/mWsnTsaHCKeqc4pWL/jOuTgdf47TgE0MPuQuK5lzGB43nkpPYS/C2y23I5SU8oCr/OAxLbhIP7r4ZA8NvyAIwDiVSX21LNSkaNb1/RD3BYpDCGPBprQxg+TyBZAl0McthpQt7bZcBvlnWzKkXu8w0P096kpqJZ/z58pMsMnM+r6XpS/Nede0TfChrIUen8JuSDgZ98k4SbqDa6Qmj+R5yczapsnTk2ZmwzD0fV+XzbK8hTATwLdKoXQ1oJZlVvUEcJ4SphLWUWUnkJiHo73kFNpys+jSu9p3fbQ4tpQ0cNuI86AHjE+Kn66Cnk0D1+iqHbIsrJFrTPoUJC4uQt2ybn/bXoW/2GZdD5tO8Wr8dlaO42B1DuC1EIBxBqvbEY6qctC3Pher6pngNP58vGV6p1vGFu4ivbfTctBlebnz486EKQHJebd/CrU4cDICME41K0tQpyGlelh1xKi/Tk9hO8IjYpyvgrYsxui9GwZzzqX9gJXTf70fk4BJSbpdqmiyvnpw/O+YhuRyHjCzvzgT5oBxknThWk41lgFnN/22LmjPBOWtSjSNscRg55yL0bz3ZpYm2b2fDESXaM06rIPavJaq/Knx0+nkwnTyfExD0r6NBjovOAM+RDjVsqBQKGOmZfx5OiFZD931n+jBPXz1+PMsoPY5MKS5yXo/YCYrb1fSkBbjz3WruN+FSlL+7JKGhHMgAOM8xqoGznnnfAht28YYLUYzc871w9D1/exyV6IJ08BHpHAwLcQxRtemmVU72Z/OFOK4xZWk9arOF48uQhPS59Y5F4fYd33wYVwFzSUT58OnCSeZ5UOaWTTruq7rOu+9c855b2ZNCG0Iq70yYxX0Yan7W1Y413O6ZUVuCcNm5lzZLfjTPMwHKCXMrd36Df0wjjmbzKxpm+aiGeIwPivpmQnGGRCAcZLlJWi2HeGtT+cidtxyIdWsEEc2vtvlXaf7e8yhvuw0r7pwzin9DzgfAjDOoA4F+63NnasvY2GtKoQx/nwHKZQeup9JM8GzgJHThT/hI3u4Do0QHIiwk+0IZxnDwOtioAonscVNXElDml3KxsqU0+eKNKSjlkE3TQCXQhxHnkUhjmNmKxGmowWp/rPJUpe3dHz3gzrEYJwDARgnKTuUH58RS91fN01Dwl2UipLLjRmcUwjjKVwnIKWvKcRxJ/U+SPlD7MPkvZ4M3pT6G4we4mQEYJwkTtOQ0tdlO8ISaBcTllJeOE0a0hExahg0DDIb/5QsxmhmXdfFaM5F710I3nuX5oZT6rD3FOI4qpX69TSk2e1hjLEf+vnjjO3jHLiLw/kN043jXS4KvV8sLaka9mO10CGp+xuCvFcIKbh6732M1ratc87MUrZXzvnaJyBRiOOYl9XX05HkcrOY97dwk2bc0+B8CMA4A199kkzyzkUzl8sWO+VtZaZc3g2JsdIj6lHlWUAtoYJNAl5ZyKM3Vk2NmOTkvS97Eabak955i6ZqMni8ZyQY4zQEYJzEVRcx5W6umXnnSj84lvrFiyd6qWNvt6Nu7cWWW5vlTQ494IMG6ZGkaSa7k+KYcaSqBxwtzmaF91MvwAkIwDhJWYSlqheRpO0Iy7eraUgJYeK4cueSNzsySc4pLYQuy6HTHc64Zzxn9nFHR13cYshmkoZUr3cATsBpilP53IVdzvKqXoc1TUMq0bphCPqwtBPD4sHVoc95QKD7e4tlEXPNy0Hn5QvTNzyQhoTzIADjnMpgXrqELcPwLHQwiXYX9S6/Raq/YWZ936uKyvVsMYU4Xk0ZaUgDzvnbUIp9lu0IgXMgAOMkKSj4aSj13jchTLI2Dm9HSLmII1I07atUrUM7MSyfRQ/4mNXtCFc5pVucSa+XXRlwDnyIcKqyQaoWfYNxaYtz/dr4c0EMPm5ZiKNsfFQmgFO4rcer2Y/hFrvFI16qc9bT3lPD9EYmvcPMmuAcCMA4g1Zq8nLotEd81/dlFbST2hCaEMp66dR/SPux7riaHWamGMeqGqm8Rl2IY7frvHdt25ZCHDEqxrFqR9+zK/BRTySfJ3SDlHdcsGjDMJSV+y69wz6MmzFEaZBu2A0JZ0AAxknSJaiXYr6OecnMLpqmrCM1s24Y0jheyT6KOWa3pCEd5f0Yg1NkrQtxXFw0Xdenkljp/6UMVgj0gI96KfXSIA0aY2pa6mxq2qYJjVLyunPOua7vYoxj6lGK2Uyu4xwIwDibQ92t1FWYpSHVnQcmK484UogjrcPC61iOutRTvGUfLyvf0dvF+RGAcQZ1HChJkn56zRoOLAoihhy3nNxdSlmqB9KTcMDqngoHMrzGPGBfJdsZy6FxKgIwTlIvIK1L2ffT3Rdcno1cbqjKdoR3l8JwtRB6MspcCnQor9hiDvh2aYX5ao3PPMu7T0Myqx8HTkQAxklKGlJSLvjtNDaQhvR6VgtazXq6KQw7RyGOV9HmT22o/iyJv0cSqPeV3j6hI8MvED5EOFVdSmgc1VvEjX4aDUhDujvnSsd38njJlhmzVPebxu8bU5DymN36doTLNKTxkXrchkVYOAdOUJxHva95nMaKsoBldrmjh3arFE3r4fwyGZx6aWWQuV4lRCGO26XtCOsi5tms+7vfhmF1zhg4AZkKOIlJUfvcyPR5cma92fObmzaEq+vrYRiudrubYUh5H2n7o0HqpZ1k0s09/xJblzqyfiwTYZoU4hijRT0BnH/0aR7jQzNITuryp/Zmv6em9WY7213uYhslxSFeX14Pu0F9/shGaSf1BGOcinMUJ/lI6qWrnAF8JT2WotmHl5ePd7tUkPLlzU3Xddd9f2XWSzdSJ72UdtKl9DPp4/v+LTYrFeIIYUwF9l5t60NwIYS2bdu2ubnpuq4LwedUYApx3M2N9EJ6KnmpyYsJo+yx2aXd+Jvdy11oQtM0u5vd1fOr4eVgg2knddK11EuWF3ABr4sAjJMM0k66kHZSk7ZJNbuQPr656WKMZikIXHVdH+Mud3+vpBvpMvclGCs9wnsNw74QxzDYMNhu1yWpEpaZheC8d7NCHATgg15IO+laCtKjXERmkExd39nOwqMgk/POzPqr3jobe73X0k66kQbp+/f9W+CBIwDjJN+Xfjv1enN5vnFQOsa+60zqYxzMLMbeLA3gpWG/K+lKeiFdSh/d92+xfXUoPZQTvHyc6hEH9dJL6WMpSM0YetVKg+zCht0wvBxccC642MWhH6w3xTx3UiIxPWCchgCMU31b+k9yOclQ1YIuC1wsl/wbqgB8nceir9aq4qOoQ29aV1Ue6fsh5SCl/FSqNb2CF9JL6ZH0RAp5EKaXesUuRhdd60w2lt2IecA5LWFI4zZ/LT2/518CDx0BGKe6lC5zTftrqa3qPPu8RCvma9eQx5/TMN7H0l/e9/E/CCm2lkIc6YtmbZ0VhTju6gPpWV5+1UjXqY65ZFLINTfSErfyIe7ywPVL6d/d68Hj5wIBGKf6sfRE+ltVR2KoCnTEPChdesDpi2vpSvob6fo+j33r7pLIm8OwlQpZCWlIt3gu/SSvHryQTNrlb8tbV3bZLLeQO+ml9EPpZ/d24Pi5QQDGGfyF9Ib0NempNOTdYlLscLnzkJI4bvIy0kvpJ3R/b5OqcNTdX0khOK0U4ljZtoFCHLd4X3osXUiSnkqS2jx00+cOsc8zxF3+7P5A+tf3edT4uUEAxnn8G8lLX5YeSY9z1fp6cm3Il6+UffQ3rCG9gxRHU6idVtceWSmyTSGO1/NDqZfeybeKj/ItZCpQnpdGj6M3N9IPpH9zz4eMnxsEYJzN/yv9RPrNnJI0DoxKymU3St/3h9K/v8cDfZhSdzaNM4fgU8GmMg08bhNQDUJTiONOdtL3pU56R3ozf0xb6WafHDzOmlxJ3+W2EefEOYpz+oH0E+kr0uelJhcXKv2Ha+l96SWrR++sroGVpPHnO7anE3xXfyn9RHpH+qz0NN8/+jz7u5N+IP3wvg8SP3cIwDizF9K3JElvSM+qi1gn/fSeD+3BK8PMwxAlmVmaCTYbIy3Lnl/ftfR96fvSU+lZXtafso8+vO9jw88pAjA+KS+kF/d9DA9d6cIej6zer+/OwyKs1/Eyb9UAfMI4QYFNq6trHNqRsC7EQTUO4KEgAAObloLurBBH+tFqIY56NRZzwMCWEYCB7bpbIY5x/Dn1g9NT0gZKALaMAAxs2mJI2bx3kvo+Lb+y9EXZVj7FXQpxANvHCQpsVx1Nj/do6wlgxp+BB4EADDwMs0IcTRPs6NpoCnEAG0cABrZrWYjDT4eVZ5Ww8iqt8ad0goEtIwADm1avf3ZOZmZmMVqM6YvonKsLcTgn71PL+ztoAHdAAAa2K8b5hK5zzjlnZt47712M0cxKIQ6zMQaXSAxgszhBgU07Uogjr39WPRlMIQ7goSAAA5tWF+JIZiGWHQmBB4qFksB2zcaQU4QdhhRxLZXgqNZhWWlDIQ5g++gBA5u2HFJOhTgWa6wmhThyy0/uuACcihMU2K61QhxjoM0bEY5fzHZioPsLbB8BGHhIju/EkDABDDwIBGBg66blOJykEMZvqp0YpGkhDiphARtHygKwWb/6xS/+Wtt+JoQnjx8/+epXfxRC27bNo0ePnjx5/Pbbb3/hC198+vTJhx9++MEHH7x8+XK3u7m+vhmGoev6vt9973tf6LqffPjhu9KP7vsXAbCCAAxs1q9Ivyd9XnpLeiY9lR6F8LhtnzTNo1/6pS997nNfcM59+OG//+lPf3J9/aLrrobhStpJN9LH0qX0Y+mPpffv+xcBsIIhaGCz0v1xvdx5Mq87DH3+MiUgrd5Pc5MNbBQBGNiycoa68meq/GympmnXCj6nlmlumIVYwHYRgIGNK11YS1875/O3kiwthzZLhTjq/m7kBAe2jPMT2LIUZWP5s3R5h2FIpa/6vtdk/Nkkk4ZP9zgBvDICMPBQBOXxZ+9DCOG29pzdwKZxigJbFqUotVKUnOT8tLxkVY7D8p/pKYNknODAlnF+AlvmJC8NUshjy5IU4zjCnMaf8+Ks0j5IQXIswgK2jAAMbFya3F2fBk5f2NpiaAAbRwAGNi6F3hSGvfI0sKRq2Fma5wHXq7cAbBEBGNgyP01DkvZbHrkQGkkhNGapW5wapB83RF9g4wjAwPZNxp+d82b7MlhlIDpLYTg9yAkObBfnJ7Bl88ndMv6c0pDK7G+uzlE/ix4wsGkEYGDLUihN5+k+8bckAVdpSPVUcfqa/QiBTeMUBR4EV3ZcMLMYLcYYY3TOOedKdegcsG+t0QHg/tEDBjaudGpTIegx4nrvnXMxRjO7Q1UsAJtDAAY2bj62PMsDNlOM0Wx1O0KmgYHtIgADWzZbWpW+HcNw6vi2bVs1ULUdIdEX2DQCMLBxy37t5LRdlMGql0BzggPbxfkJbFkdTSeBNucBW993Ig0JeIAIwMD2pTVW+zqU3vs0/pyKYWmfH1x3l8lxADaNAAxsnMv7IEXJed86F0Lwbds2TdP3Xdf1IQSzGGOJwWlPJKMTDGwZARjYshR6y04MZjaYDV3XdV3fdZ3k2rY1i85553y1ZeGQwzCAjeL8BDaunvqd9GhLFegYxxodn95BATgZARjYsnSG1p1glTCc62/MVkGXNCQxBA1sGQEY2Lhb0pDKOqxFJDZOcGDLOD+BLasTimbjz5PtCKvxZ3KQgIeBAAw8FPs0JE06vkv1HkoANopTFNi4KLVleDkV3PB+3H2hbMOQ62GlfrBJPUPQwMZxfgJbloJozKfqOM4cY9qGwdL4s/ez8WcvNZJjIBrYMgIwsHFlIbRmAbXvOzMrtaCnNaFnC7IAbA4BGNi44dAPcv1ni9Ekm+YBsxQL2DoCMLBlPpeiTOpdgW1WDnq6HWFTDVwD2CLOT2D79hstmI1fzNKQKvR9gYeBAAxsWT2VOwm0szSkte0ID45dA9gCAjCwZSmU7rcjTF3btTSkejvC9Kz2UzpGAK+FAAw8CGkm2JnJLJpZ13Vd1znnmqbxPm2F5KclowFsGicqsHGT/RhSrDWLaT/gruv6vjczs2gWq6lf0pCArSMAAxtXT+Wub0eYxp+n08Ar7QFsCgEY2LK6CofyQujx2zQBbPsCHPU0cCD6AhtHAAY2br4dYS64UcJwI8lsdTckTnBguzg/gS2bb0dYurt9P44/p4TgtTJYpCEBm0YABrZvJQ0pjT83zWxTwnrtFWlIwKYRgIEtS7shDfkL71zrXEj9XbNxAtj7EOMQYxl2dpKXjGlgYMsIwMDGRSnkvQVNGsyGXIfS+r6XZGbeO+d8tQVhzGEYwEZxfgIbV48qH0tDWkMPGNguAjCwZbenISmvzMp5wBTDAh4GzlJg4+ZpSKrWQmufDewW/V22IwQ2jfMT2LKVNKS0AiuNP5spTQMfeAqA7SIAAw/LGFnz+PPYF17LA+bsBjaNUxTYuJgzevdnq/dekpmVaeBpHUpXZS4B2CjOT2DLUhCNVWRNOxJajDH96ZwzG3cqrJZrhSolCcAWEYCBjasXQkfnnHMyM+dcCr1m5r1n/0HgwSEAA1vmlyWdS0+3ygM2zaeBY/UngC0iAAMb52Z5wPU6rOk0sFVtGtKQgI3j/AS2bL6e2WwsuDHLPjqwHSGA7SIAA9uXYu0kpua1V2kg2tiOEHhwCMDAlqVQenA7wgNpSOlZLSc4sGWcn8D2WZ4JNjPFGL33TdM0TXNzc911nfchbVYoqfpCDEQDW0YABjbO5+jrJJ/0fdd1fd/3TdM2TWNmUjQz9gAGHhACMLBx9VTuWA5akmTD0KdpYLNYakRPEYyB7SIAA1u2sh1hCaveh+UTqu0Iib7AphGAgY1b9msnp21eh+XMlhGXExzYLs5PYMtWtiNMShms9EU1/lxmgklDAjaNAAxs38E0JDtWAbplFBrYMgIwsGWWy0Fbzi/y9aB0yQO2MRRb3jrJsx0hsHGcn8DGxWpvwbHDG+MgycyGoZfG4pSScuhVtYMhgI0iAAMbV48yx/qRNPtrlnu/KxGXIWhguwjAwJbNztBDndqo/Tqs+f4NALaJsxTYODftBCsvh7ZSDnqsxjGmIdV1KDnBge3i/AS2bJ6GJCktii7jzyUfafEU0pCATSMAAw/LGIZDCFYlIa1tR9h+ikcF4JURgIGNi1JbLW+WZGXZc1UGKwVdl/8cSEMCNo7zE9gym1Z1HhN8zazv+77vnXMhNN575/x0L4aSuQRgowjAwMbV+zGkgOrMLO0H3Pd933dmMW2ItFiuBWC7CMDAlvm8lmolAWkYhjTwnMafp9PAs3VbADaHAAxsnDu0HWEIoe7yTqeBG9KQgI3j/AS2bLWqxjgonSJuKQc9fQp9X2DrCMDA9vWSpjHV+n6yHeF0jDrFYPKAgU0jAANbZnkzBq1uR+h9qFpqGoZbTnBgyzg/gY3z1aiyd66RvPc+hCaE0Pdd3/fe+7QQOrcvYZiBaGC7CMDAxvm8Dsvngs+x77th6Iehd841TROjOeed87nHDOABIAADG1dP5Y7bMKRv0jSwmR1O/yUYA9tFAAa2rFThKDUmVcLtbP1zzgN2+YlEX2DTCMDAxh3aA3iUwrCZ8hxwjRMc2C7OT2DLVrYjTDsxDEOvvB2h2ewpxnaEwPYRgIEtS6F1noYkyfsj2xEmLaPQwJYRgIGNS+WgS11Jr9wJ1mQauOQBx7JpEic4sGWcn8DGxWpvQZcqUJrJzJxzMUbJVbO/VnWUb5k8BnC/mvs+AADH1RO8JdBG51wagjaL3qegu4y4DEED20UPGNiycoYe2o4wxeDldoSc2sDWcZYCG7fcjnD8NnV8yzRwHoiu61ByggPbxfkJbJnl2V/lP11OQ5pkGVULokvmEmlIwKYRgIEHqQw+p0g8HX9OMbi9j+MCcFcEYGDjhhxK93nAzvk08lyNP9fbEZo0HC4QDWATWAUNbJlJIQ8+m+TMFONgZn3flxjsnHfO5WwlSb76GsBGEYCBjSudWifJOedcMLOmafp+kNIQtJml8pPkHQEPBkPQwJaVTY1SGC5dYakqBz0df1bVkngMbBcBGNi4ZRrSGFZn2xFO2zSkIQEbx/kJbFkKvbPzdB93zSyHYZv2j+n7AltHAAa2r5c0HYvel8FK2xGupSFxdgObxikKbJmThno7wlTuyjmf6z/PzFKPOMGB7eL8BLYsbYVURpW99ylzoVSjLHnAJRXYT6tRAtgoAjCwcS6vw/Kp8pX2ZZ8VYyqDJcmc81XdSgBbRwAGtsxPA+osDWmocpBWEYyB7SIAA9tneVR5koa0//EkD7gUwyINCdg0zk9g49YrSprNtyOkvws8LARgYMvqpN6ShuSVZ3+12JdQspwTzHaEwKYRgIEtSwF4n4ZUurmp+1tNAC87ymxHCGwaARjYuJQKPBledm6MvtX482w7Qs92hMDGEYCBjbNqb8ExJSlJo9Deh2oRVkkFjmxHCGwcARjYuLojW6aBzTnnfRiGYRiGPBy9fC7LsoDtIgADW1bO0JXubF5+NaYCT8tBc2oDW8dZCmzc+naEZgohTOtwTHZrIA8Y2DjOT2DL6jSkElnTaTvG3sWuwOUppCEBm0YABh6KfUA1U4wxfzGkEeiqZYrBKQ2JaWBgowjAwGZ10k7qcyjdJ/5673MZrHIKz9KQJEVpJ3Wf6iEDuDMCMLBZl9KN9EK6kjqpKwnBaQm092EY+r7vq+VXUeqlXuqkn0m9dHWPvwCAI5r7PgAAh7yQXkpvSR9JJvVppXOMwzB0XReeP39hFm5uPt7tLmOMMaY4/VK6lJ5LnXQpvbjv3wLAOgIwsGU/kN6ULqRdqgIdY+fco2Honz9/cXHxtO/7vu9ivDHrpRtpkK6la+lG6qWf3PfxAziIAAxs2fel38yTwY10KZlZ1/eNc23fv5S82S7vvrCTdtKN1EnX0qX0o/s+fgAHEYCBjfuO9LckLzWSk66lRurNOueCWVrk3OW8o5scg6+l96Xn93zsAA4jAAMb9570Wek/kK6kQXqcK2yEnH0UJZOGvGT6Wnoh/ZX05/d95ACOIQAD2/dNqZG+IlkujBVyWrCXBsnyGumddC19JH3rfo8YwK3YLwV4KP629BXpsdRKjdRWkdjyCqyX0r+VvnPfhwrgdgRg4AH5rPQN6cs5BvvcJ05Zwi+k70jv3fdBArgTAjDw4LwtfU76Yi6kM0gfSp30w/s9LAAAAAAAAAAAAAAAAAAAAAAAAAAAAAAAAAAAAAAAAAAAAAAAAAAAAAAAAAAAAAAAAAAAAAAAAAAAAAAAAAAAAAAAAAAAAAAAAAAAAAAAAAAAAAAAAAAAAAAAAAAAAAAAAAAAAAAAAAAAAAAAAAAAAAAAAAAAAAAAAAAAAAAAAAAAAAAAAAAAAAAAAAAAAAAAAAAAAAAAAAAAAAAAAAAAAAAAAAAAAAAAAAAAAAAAAAAAAAAAAAAAAAAAAAAAAAAAAAAAAAAAAAAAAAAAAAAAAAAAAAAAAAAAAAAAAAAAAAAAAAAAAAAAAADAq/j/Acoivk/37st9AAAAAElFTkSuQmCC\"/></td></tr></table>"
      ],
      "text/plain": [
       "<IPython.core.display.HTML object>"
      ]
     },
     "metadata": {},
     "output_type": "display_data"
    }
   ],
   "source": [
    "chaotic_pendulum = \"\"\"\n",
    "<mujoco>\n",
    "  <option timestep=\".001\">\n",
    "    <flag energy=\"enable\" contact=\"disable\"/>\n",
    "  </option>\n",
    "\n",
    "  <default>\n",
    "    <joint type=\"hinge\" axis=\"0 -1 0\"/>\n",
    "    <geom type=\"capsule\" size=\".02\"/>\n",
    "  </default>\n",
    "\n",
    "  <worldbody>\n",
    "    <light pos=\"0 -.4 1\"/>\n",
    "    <camera name=\"fixed\" pos=\"0 -1 0\" xyaxes=\"1 0 0 0 0 1\"/>\n",
    "    <body name=\"0\" pos=\"0 0 .2\">\n",
    "      <joint name=\"root\"/>\n",
    "      <geom fromto=\"-.2 0 0 .2 0 0\" rgba=\"1 1 0 1\"/>\n",
    "      <geom fromto=\"0 0 0 0 0 -.25\" rgba=\"1 1 0 1\"/>\n",
    "      <body name=\"1\" pos=\"-.2 0 0\">\n",
    "        <joint/>\n",
    "        <geom fromto=\"0 0 0 0 0 -.2\" rgba=\"1 0 0 1\"/>\n",
    "      </body>\n",
    "      <body name=\"2\" pos=\".2 0 0\">\n",
    "        <joint/>\n",
    "        <geom fromto=\"0 0 0 0 0 -.2\" rgba=\"0 1 0 1\"/>\n",
    "      </body>\n",
    "      <body name=\"3\" pos=\"0 0 -.25\">\n",
    "        <joint/>\n",
    "        <geom fromto=\"0 0 0 0 0 -.2\" rgba=\"0 0 1 1\"/>\n",
    "      </body>\n",
    "    </body>\n",
    "  </worldbody>\n",
    "</mujoco>\n",
    "\"\"\"\n",
    "model = mujoco.MjModel.from_xml_string(chaotic_pendulum)\n",
    "renderer = mujoco.Renderer(model, 480, 640)\n",
    "data = mujoco.MjData(model)\n",
    "mujoco.mj_forward(model, data)\n",
    "renderer.update_scene(data, camera=\"fixed\")\n",
    "media.show_image(renderer.render())"
   ]
  },
  {
   "cell_type": "markdown",
   "metadata": {
    "id": "EKZrTBSS5f49"
   },
   "source": [
    "## Timing\n",
    "Let's see a video of it in action while we time the components:"
   ]
  },
  {
   "cell_type": "code",
   "execution_count": 3,
   "metadata": {
    "id": "-kNWvE9dNwYW"
   },
   "outputs": [
    {
     "name": "stdout",
     "output_type": "stream",
     "text": [
      "simulation:   3.5 μs/step  (285375Hz)\n",
      "rendering:    614 μs/frame ( 1630Hz)\n",
      "\n",
      "\n"
     ]
    },
    {
     "data": {
      "text/html": [
       "<table class=\"show_videos\" style=\"border-spacing:0px;\"><tr><td style=\"padding:1px;\"><video controls width=\"320\" height=\"240\" style=\"object-fit:cover;\" loop autoplay muted>\n",
       "      <source src=\"data:video/mp4;base64,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\" type=\"video/mp4\"/>\n",
       "      This browser does not support the video tag.\n",
       "      </video></td></tr></table>"
      ],
      "text/plain": [
       "<IPython.core.display.HTML object>"
      ]
     },
     "metadata": {},
     "output_type": "display_data"
    }
   ],
   "source": [
    "# setup\n",
    "n_seconds = 6\n",
    "framerate = 30  # Hz\n",
    "n_frames = int(n_seconds * framerate)\n",
    "frames = []\n",
    "renderer = mujoco.Renderer(model, 240, 320)\n",
    "\n",
    "\n",
    "# set initial state\n",
    "mujoco.mj_resetData(model, data)\n",
    "data.joint('root').qvel = 10\n",
    "\n",
    "\n",
    "# simulate and record frames\n",
    "frame = 0\n",
    "sim_time = 0\n",
    "render_time = 0\n",
    "n_steps = 0\n",
    "for i in range(n_frames):\n",
    "  while data.time * framerate < i:\n",
    "    tic = time.time()\n",
    "    mujoco.mj_step(model, data)\n",
    "    sim_time += time.time() - tic\n",
    "    n_steps += 1\n",
    "  tic = time.time()\n",
    "  renderer.update_scene(data, \"fixed\")\n",
    "  frame = renderer.render()\n",
    "  render_time += time.time() - tic\n",
    "  frames.append(frame)\n",
    "\n",
    "# print timing and play video\n",
    "step_time = 1e6*sim_time/n_steps\n",
    "step_fps = n_steps/sim_time\n",
    "print(f'simulation: {step_time:5.3g} μs/step  ({step_fps:5.0f}Hz)')\n",
    "frame_time = 1e6*render_time/n_frames\n",
    "frame_fps = n_frames/render_time\n",
    "print(f'rendering:  {frame_time:5.3g} μs/frame ({frame_fps:5.0f}Hz)')\n",
    "print('\\n')\n",
    "\n",
    "# show video\n",
    "media.show_video(frames, fps=framerate)"
   ]
  },
  {
   "cell_type": "markdown",
   "metadata": {
    "id": "Iqi_m8HT-X5k"
   },
   "source": [
    "Note that rendering is **much** slower than the simulated physics.\n",
    "\n",
    "## Chaos\n",
    "This is a [chaotic](https://en.wikipedia.org/wiki/Chaos_theory) system (small pertubations in initial conditions accumulate quickly):"
   ]
  },
  {
   "cell_type": "code",
   "execution_count": null,
   "metadata": {
    "id": "Pa_19EfvOzzg"
   },
   "outputs": [],
   "source": [
    "PERTURBATION = 1e-7\n",
    "SIM_DURATION = 10 # seconds\n",
    "NUM_REPEATS = 8\n",
    "\n",
    "# preallocate\n",
    "n_steps = int(SIM_DURATION / model.opt.timestep)\n",
    "sim_time = np.zeros(n_steps)\n",
    "angle = np.zeros(n_steps)\n",
    "energy = np.zeros(n_steps)\n",
    "\n",
    "# prepare plotting axes\n",
    "_, ax = plt.subplots(2, 1, figsize=(8, 6), sharex=True)\n",
    "\n",
    "# simulate NUM_REPEATS times with slightly different initial conditions\n",
    "for _ in range(NUM_REPEATS):\n",
    "  # initialize\n",
    "  mujoco.mj_resetData(model, data)\n",
    "  data.qvel[0] = 10 # root joint velocity\n",
    "  # perturb initial velocities\n",
    "  data.qvel[:] += PERTURBATION * np.random.randn(model.nv)\n",
    "\n",
    "  # simulate\n",
    "  for i in range(n_steps):\n",
    "    mujoco.mj_step(model, data)\n",
    "    sim_time[i] = data.time\n",
    "    angle[i] = data.joint('root').qpos\n",
    "    energy[i] = data.energy[0] + data.energy[1]\n",
    "\n",
    "  # plot\n",
    "  ax[0].plot(sim_time, angle)\n",
    "  ax[1].plot(sim_time, energy)\n",
    "\n",
    "# finalize plot\n",
    "ax[0].set_title('root angle')\n",
    "ax[0].set_ylabel('radian')\n",
    "ax[1].set_title('total energy')\n",
    "ax[1].set_ylabel('Joule')\n",
    "ax[1].set_xlabel('second')\n",
    "plt.tight_layout()"
   ]
  },
  {
   "cell_type": "markdown",
   "metadata": {
    "id": "daSIA_ewFGxV"
   },
   "source": [
    "## Timestep and accuracy\n",
    "**Question:** Why is the energy varying at all? There is no friction or damping, this system should conserve energy.\n",
    "\n",
    "**Answer:** Because of the discretization of time.\n",
    "\n",
    "If we decrease the timestep we'll get better accuracy and better energy conservation:"
   ]
  },
  {
   "cell_type": "code",
   "execution_count": null,
   "metadata": {
    "id": "4z-7KN_fFme-"
   },
   "outputs": [],
   "source": [
    "SIM_DURATION = 10 # (seconds)\n",
    "TIMESTEPS = np.power(10, np.linspace(-2, -4, 5))\n",
    "\n",
    "# prepare plotting axes\n",
    "_, ax = plt.subplots(1, 1)\n",
    "\n",
    "for dt in TIMESTEPS:\n",
    "   # set timestep, print\n",
    "  model.opt.timestep = dt\n",
    "\n",
    "  # allocate\n",
    "  n_steps = int(SIM_DURATION / model.opt.timestep)\n",
    "  sim_time = np.zeros(n_steps)\n",
    "  energy = np.zeros(n_steps)\n",
    "\n",
    "  # initialize\n",
    "  mujoco.mj_resetData(model, data)\n",
    "  data.qvel[0] = 9 # root joint velocity\n",
    "\n",
    "  # simulate\n",
    "  print('{} steps at dt = {:2.2g}ms'.format(n_steps, 1000*dt))\n",
    "  for i in range(n_steps):\n",
    "    mujoco.mj_step(model, data)\n",
    "    sim_time[i] = data.time\n",
    "    energy[i] = data.energy[0] + data.energy[1]\n",
    "\n",
    "  # plot\n",
    "  ax.plot(sim_time, energy, label='timestep = {:2.2g}ms'.format(1000*dt))\n",
    "\n",
    "# finalize plot\n",
    "ax.set_title('energy')\n",
    "ax.set_ylabel('Joule')\n",
    "ax.set_xlabel('second')\n",
    "ax.legend(frameon=True);\n",
    "plt.tight_layout()"
   ]
  },
  {
   "cell_type": "markdown",
   "metadata": {
    "id": "jsVkUm7QKb9I"
   },
   "source": [
    "## Timestep and divergence\n",
    "When we increase the time step, the simulation quickly diverges:"
   ]
  },
  {
   "cell_type": "code",
   "execution_count": null,
   "metadata": {
    "id": "FbdUA4zDPbDP"
   },
   "outputs": [],
   "source": [
    "SIM_DURATION = 10 # (seconds)\n",
    "TIMESTEPS = np.power(10, np.linspace(-2, -1.5, 7))\n",
    "\n",
    "# get plotting axes\n",
    "ax = plt.gca()\n",
    "\n",
    "for dt in TIMESTEPS:\n",
    "  # set timestep\n",
    "  model.opt.timestep = dt\n",
    "\n",
    "  # allocate\n",
    "  n_steps = int(SIM_DURATION / model.opt.timestep)\n",
    "  sim_time = np.zeros(n_steps)\n",
    "  energy = np.zeros(n_steps) * np.nan\n",
    "  speed = np.zeros(n_steps) * np.nan\n",
    "\n",
    "  # initialize\n",
    "  mujoco.mj_resetData(model, data)\n",
    "  data.qvel[0] = 11 # set root joint velocity\n",
    "\n",
    "  # simulate\n",
    "  print('simulating {} steps at dt = {:2.2g}ms'.format(n_steps, 1000*dt))\n",
    "  for i in range(n_steps):\n",
    "    mujoco.mj_step(model, data)\n",
    "    if data.warning.number.any():\n",
    "      warning_index = np.nonzero(data.warning.number)[0]\n",
    "      warning = mujoco.mjtWarning(warning_index).name\n",
    "      print(f'stopped due to divergence ({warning}) at timestep {i}.\\n')\n",
    "      break\n",
    "    sim_time[i] = data.time\n",
    "    energy[i] = sum(abs(data.qvel))\n",
    "    speed[i] = np.linalg.norm(data.qvel)\n",
    "\n",
    "  # plot\n",
    "  ax.plot(sim_time, energy, label='timestep = {:2.2g}ms'.format(1000*dt))\n",
    "  ax.set_yscale('log')\n",
    "\n",
    "\n",
    "# finalize plot\n",
    "ax.set_ybound(1, 1e3)\n",
    "ax.set_title('energy')\n",
    "ax.set_ylabel('Joule')\n",
    "ax.set_xlabel('second')\n",
    "ax.legend(frameon=True, loc='lower right');\n",
    "plt.tight_layout()\n"
   ]
  },
  {
   "cell_type": "markdown",
   "metadata": {
    "id": "FITYfGyy3XPL"
   },
   "source": [
    "# Contacts\n",
    "\n",
    "Let's go back to our box and sphere example and give it a free joint:"
   ]
  },
  {
   "cell_type": "code",
   "execution_count": null,
   "metadata": {
    "id": "2n1VNVv_FkbB"
   },
   "outputs": [],
   "source": [
    "free_body_MJCF = \"\"\"\n",
    "<mujoco>\n",
    "  <asset>\n",
    "    <texture name=\"grid\" type=\"2d\" builtin=\"checker\" rgb1=\".1 .2 .3\" \n",
    "    rgb2=\".2 .3 .4\" width=\"300\" height=\"300\" mark=\"edge\" markrgb=\".2 .3 .4\"/>\n",
    "    <material name=\"grid\" texture=\"grid\" texrepeat=\"2 2\" texuniform=\"true\"\n",
    "    reflectance=\".2\"/>\n",
    "  </asset>\n",
    "\n",
    "  <worldbody>\n",
    "    <light pos=\"0 0 1\" mode=\"trackcom\"/>\n",
    "    <geom name=\"ground\" type=\"plane\" pos=\"0 0 -.5\" size=\"2 2 .1\" material=\"grid\" solimp=\".99 .99 .01\" solref=\".001 1\"/>\n",
    "    <body name=\"box_and_sphere\" pos=\"0 0 0\">\n",
    "      <freejoint/>\n",
    "      <geom name=\"red_box\" type=\"box\" size=\".1 .1 .1\" rgba=\"1 0 0 1\" solimp=\".99 .99 .01\"  solref=\".001 1\"/>\n",
    "      <geom name=\"green_sphere\" size=\".06\" pos=\".1 .1 .1\" rgba=\"0 1 0 1\"/>\n",
    "      <camera name=\"fixed\" pos=\"0 -.6 .3\" xyaxes=\"1 0 0 0 1 2\"/>\n",
    "      <camera name=\"track\" pos=\"0 -.6 .3\" xyaxes=\"1 0 0 0 1 2\" mode=\"track\"/>\n",
    "    </body>\n",
    "  </worldbody>\n",
    "</mujoco>\n",
    "\"\"\"\n",
    "model = mujoco.MjModel.from_xml_string(free_body_MJCF)\n",
    "renderer = mujoco.Renderer(model, 400, 600)\n",
    "data = mujoco.MjData(model)\n",
    "mujoco.mj_forward(model, data)\n",
    "renderer.update_scene(data, \"fixed\")\n",
    "media.show_image(renderer.render())"
   ]
  },
  {
   "cell_type": "markdown",
   "metadata": {
    "id": "Z2amdQCn8REu"
   },
   "source": [
    "Let render this body rolling on the floor, in slow-motion, while visualizing contact points and forces:"
   ]
  },
  {
   "cell_type": "code",
   "execution_count": null,
   "metadata": {
    "id": "HlRhFs_d3WLP"
   },
   "outputs": [],
   "source": [
    "n_frames = 200\n",
    "height = 240\n",
    "width = 320\n",
    "frames = []\n",
    "renderer = mujoco.Renderer(model, height, width)\n",
    "\n",
    "# visualize contact frames and forces, make body transparent\n",
    "options = mujoco.MjvOption()\n",
    "mujoco.mjv_defaultOption(options)\n",
    "options.flags[mujoco.mjtVisFlag.mjVIS_CONTACTPOINT] = True\n",
    "options.flags[mujoco.mjtVisFlag.mjVIS_CONTACTFORCE] = True\n",
    "options.flags[mujoco.mjtVisFlag.mjVIS_TRANSPARENT] = True\n",
    "\n",
    "# tweak scales of contact visualization elements\n",
    "model.vis.scale.contactwidth = 0.1\n",
    "model.vis.scale.contactheight = 0.03\n",
    "model.vis.scale.forcewidth = 0.05\n",
    "model.vis.map.force = 0.3\n",
    "\n",
    "# random initial rotational velocity:\n",
    "mujoco.mj_resetData(model, data)\n",
    "data.qvel[3:6] = 5*np.random.randn(3)\n",
    "\n",
    "# simulate and render\n",
    "for i in range(n_frames):\n",
    "  while data.time < i/120.0: #1/4x real time\n",
    "    mujoco.mj_step(model, data)\n",
    "  renderer.update_scene(data, \"track\", options)\n",
    "  frame = renderer.render()\n",
    "  frames.append(frame)\n",
    "\n",
    "# show video\n",
    "media.show_video(frames, fps=30)"
   ]
  },
  {
   "cell_type": "markdown",
   "metadata": {
    "id": "_181TbtVSMBl"
   },
   "source": [
    "## Analysis of contact forces\n",
    "\n",
    "Let's rerun the above simulation (with a different random initial condition) and\n",
    "plot some values related to the contacts"
   ]
  },
  {
   "cell_type": "code",
   "execution_count": null,
   "metadata": {
    "id": "BMqyWeHki8Eg"
   },
   "outputs": [],
   "source": [
    "n_steps = 499\n",
    "\n",
    "# allocate\n",
    "sim_time = np.zeros(n_steps)\n",
    "ncon = np.zeros(n_steps)\n",
    "force = np.zeros((n_steps,3))\n",
    "velocity = np.zeros((n_steps, model.nv))\n",
    "penetration = np.zeros(n_steps)\n",
    "acceleration = np.zeros((n_steps, model.nv))\n",
    "forcetorque = np.zeros(6)\n",
    "\n",
    "# random initial rotational velocity:\n",
    "mujoco.mj_resetData(model, data)\n",
    "data.qvel[3:6] = 2*np.random.randn(3)\n",
    "\n",
    "# simulate and save data\n",
    "for i in range(n_steps):\n",
    "  mujoco.mj_step(model, data)\n",
    "  sim_time[i] = data.time\n",
    "  ncon[i] = data.ncon\n",
    "  velocity[i] = data.qvel[:]\n",
    "  acceleration[i] = data.qacc[:]\n",
    "  # iterate over active contacts, save force and distance\n",
    "  for j,c in enumerate(data.contact):\n",
    "    mujoco.mj_contactForce(model, data, j, forcetorque)\n",
    "    force[i] += forcetorque[0:3]\n",
    "    penetration[i] = min(penetration[i], c.dist)\n",
    "  # we could also do\n",
    "  # force[i] += data.qfrc_constraint[0:3]\n",
    "  # do you see why?\n",
    "\n",
    "# plot\n",
    "_, ax = plt.subplots(3, 2, sharex=True, figsize=(10, 10))\n",
    "\n",
    "lines = ax[0,0].plot(sim_time, force)\n",
    "ax[0,0].set_title('contact force')\n",
    "ax[0,0].set_ylabel('Newton')\n",
    "ax[0,0].legend(iter(lines), ('normal z', 'friction x', 'friction y'));\n",
    "\n",
    "ax[1,0].plot(sim_time, acceleration)\n",
    "ax[1,0].set_title('acceleration')\n",
    "ax[1,0].set_ylabel('(meter,radian)/s/s')\n",
    "\n",
    "ax[2,0].plot(sim_time, velocity)\n",
    "ax[2,0].set_title('velocity')\n",
    "ax[2,0].set_ylabel('(meter,radian)/s')\n",
    "ax[2,0].set_xlabel('second')\n",
    "\n",
    "ax[0,1].plot(sim_time, ncon)\n",
    "ax[0,1].set_title('number of contacts')\n",
    "ax[0,1].set_yticks(range(6))\n",
    "\n",
    "ax[1,1].plot(sim_time, force[:,0])\n",
    "ax[1,1].set_yscale('log')\n",
    "ax[1,1].set_title('normal (z) force - log scale')\n",
    "ax[1,1].set_ylabel('Newton')\n",
    "z_gravity = -model.opt.gravity[2]\n",
    "mg = model.body(\"box_and_sphere\").mass[0] * z_gravity\n",
    "mg_line = ax[1,1].plot(sim_time, np.ones(n_steps)*mg, label='m*g', linewidth=1)\n",
    "ax[1,1].legend()\n",
    "\n",
    "ax[2,1].plot(sim_time, 1000*penetration)\n",
    "ax[2,1].set_title('penetration depth')\n",
    "ax[2,1].set_ylabel('millimeter')\n",
    "ax[2,1].set_xlabel('second')\n",
    "\n",
    "plt.tight_layout()"
   ]
  },
  {
   "cell_type": "markdown",
   "metadata": {
    "id": "zV5PkYzFXu42"
   },
   "source": [
    "## Friction\n",
    "\n",
    "Let's see the effect of changing friction values"
   ]
  },
  {
   "cell_type": "code",
   "execution_count": null,
   "metadata": {
    "id": "2R_gKoYyXwda"
   },
   "outputs": [],
   "source": [
    "MJCF = \"\"\"\n",
    "<mujoco>\n",
    "  <asset>\n",
    "    <texture name=\"grid\" type=\"2d\" builtin=\"checker\" rgb1=\".1 .2 .3\"\n",
    "     rgb2=\".2 .3 .4\" width=\"300\" height=\"300\" mark=\"none\"/>\n",
    "    <material name=\"grid\" texture=\"grid\" texrepeat=\"6 6\"\n",
    "     texuniform=\"true\" reflectance=\".2\"/>\n",
    "     <material name=\"wall\" rgba='.5 .5 .5 1'/>\n",
    "  </asset>\n",
    "\n",
    "  <default>\n",
    "    <geom type=\"box\" size=\".05 .05 .05\" />\n",
    "    <joint type=\"free\"/>\n",
    "  </default>\n",
    "\n",
    "  <worldbody>\n",
    "    <light name=\"light\" pos=\"-.2 0 1\"/>\n",
    "    <geom name=\"ground\" type=\"plane\" size=\".5 .5 10\" material=\"grid\"\n",
    "     zaxis=\"-.3 0 1\" friction=\".1\"/> \n",
    "    <camera name=\"y\" pos=\"-.1 -.6 .3\" xyaxes=\"1 0 0 0 1 2\"/>\n",
    "    <body pos=\"0 0 .1\">\n",
    "      <joint/>\n",
    "      <geom/>\n",
    "    </body>\n",
    "    <body pos=\"0 .2 .1\">\n",
    "      <joint/>\n",
    "      <geom friction=\".33\"/>\n",
    "    </body>\n",
    "  </worldbody>\n",
    "\n",
    "</mujoco>\n",
    "\"\"\"\n",
    "n_frames = 60\n",
    "height = 300\n",
    "width = 300\n",
    "frames = []\n",
    "\n",
    "# load\n",
    "model = mujoco.MjModel.from_xml_string(MJCF)\n",
    "data = mujoco.MjData(model)\n",
    "renderer = mujoco.Renderer(model, height, width)\n",
    "\n",
    "# simulate and render\n",
    "mujoco.mj_resetData(model, data)\n",
    "for i in range(n_frames):\n",
    "  while data.time < i/30.0:\n",
    "    mujoco.mj_step(model, data)\n",
    "  renderer.update_scene(data, \"y\")\n",
    "  frame = renderer.render()\n",
    "  frames.append(frame)\n",
    "media.show_video(frames, fps=30)"
   ]
  },
  {
   "cell_type": "markdown",
   "metadata": {
    "id": "ArmmaPqGP6W7"
   },
   "source": [
    "# Tendons, actuators and sensors"
   ]
  },
  {
   "cell_type": "code",
   "execution_count": null,
   "metadata": {
    "id": "VJz84c97c8Df"
   },
   "outputs": [],
   "source": [
    "MJCF = \"\"\"\n",
    "<mujoco>\n",
    "  <asset>\n",
    "    <texture name=\"grid\" type=\"2d\" builtin=\"checker\" rgb1=\".1 .2 .3\"\n",
    "     rgb2=\".2 .3 .4\" width=\"300\" height=\"300\" mark=\"none\"/>\n",
    "    <material name=\"grid\" texture=\"grid\" texrepeat=\"1 1\"\n",
    "     texuniform=\"true\" reflectance=\".2\"/>\n",
    "  </asset>\n",
    "\n",
    "  <worldbody>\n",
    "    <light name=\"light\" pos=\"0 0 1\"/>\n",
    "    <geom name=\"floor\" type=\"plane\" pos=\"0 0 -.5\" size=\"2 2 .1\" material=\"grid\"/>\n",
    "    <site name=\"anchor\" pos=\"0 0 .3\" size=\".01\"/>\n",
    "    <camera name=\"fixed\" pos=\"0 -1.3 .5\" xyaxes=\"1 0 0 0 1 2\"/>\n",
    "\n",
    "    <geom name=\"pole\" type=\"cylinder\" fromto=\".3 0 -.5 .3 0 -.1\" size=\".04\"/>\n",
    "    <body name=\"bat\" pos=\".3 0 -.1\">\n",
    "      <joint name=\"swing\" type=\"hinge\" damping=\"1\" axis=\"0 0 1\"/>\n",
    "      <geom name=\"bat\" type=\"capsule\" fromto=\"0 0 .04 0 -.3 .04\"\n",
    "       size=\".04\" rgba=\"0 0 1 1\"/>\n",
    "    </body>\n",
    "\n",
    "    <body name=\"box_and_sphere\" pos=\"0 0 0\">\n",
    "      <joint name=\"free\" type=\"free\"/>\n",
    "      <geom name=\"red_box\" type=\"box\" size=\".1 .1 .1\" rgba=\"1 0 0 1\"/>\n",
    "      <geom name=\"green_sphere\"  size=\".06\" pos=\".1 .1 .1\" rgba=\"0 1 0 1\"/>\n",
    "      <site name=\"hook\" pos=\"-.1 -.1 -.1\" size=\".01\"/>\n",
    "      <site name=\"IMU\"/>\n",
    "    </body>\n",
    "  </worldbody>\n",
    "\n",
    "  <tendon>\n",
    "    <spatial name=\"wire\" limited=\"true\" range=\"0 0.35\" width=\"0.003\">\n",
    "      <site site=\"anchor\"/>\n",
    "      <site site=\"hook\"/>\n",
    "    </spatial>\n",
    "  </tendon>\n",
    "\n",
    "  <actuator>\n",
    "    <motor name=\"my_motor\" joint=\"swing\" gear=\"1\"/>\n",
    "  </actuator>\n",
    "\n",
    "  <sensor>\n",
    "    <accelerometer name=\"accelerometer\" site=\"IMU\"/>\n",
    "  </sensor>\n",
    "</mujoco>\n",
    "\"\"\"\n",
    "model = mujoco.MjModel.from_xml_string(MJCF)\n",
    "renderer = mujoco.Renderer(model, 480, 480)\n",
    "data = mujoco.MjData(model)\n",
    "mujoco.mj_forward(model, data)\n",
    "renderer.update_scene(data, \"fixed\")\n",
    "media.show_image(renderer.render())\n"
   ]
  },
  {
   "cell_type": "markdown",
   "metadata": {
    "id": "u8z2vrOr_RVD"
   },
   "source": [
    "actuated bat and passive \"piñata\":"
   ]
  },
  {
   "cell_type": "code",
   "execution_count": null,
   "metadata": {
    "id": "z-zoBCuBv2Xi"
   },
   "outputs": [],
   "source": [
    "n_frames = 180\n",
    "height = 240\n",
    "width = 320\n",
    "frames = []\n",
    "fps = 60.0\n",
    "times = []\n",
    "sensordata = []\n",
    "\n",
    "renderer = mujoco.Renderer(model, height, width)\n",
    "\n",
    "# constant actuator signal\n",
    "mujoco.mj_resetData(model, data)\n",
    "data.ctrl = 20\n",
    "\n",
    "# simulate and render\n",
    "for i in range(n_frames):\n",
    "  while data.time < i/fps:\n",
    "    mujoco.mj_step(model, data)\n",
    "    times.append(data.time)\n",
    "    sensordata.append(data.sensor('accelerometer').data.copy())\n",
    "  renderer.update_scene(data, \"fixed\")\n",
    "  frame = renderer.render()\n",
    "  frames.append(frame)\n",
    "\n",
    "media.show_video(frames, fps=fps)"
   ]
  },
  {
   "cell_type": "markdown",
   "metadata": {
    "id": "gwHMy_iRA7Jh"
   },
   "source": [
    "Let's plot the values measured by our accelerometer sensor:"
   ]
  },
  {
   "cell_type": "code",
   "execution_count": null,
   "metadata": {
    "id": "uy4wSEMAAJgn"
   },
   "outputs": [],
   "source": [
    "ax = plt.gca()\n",
    "\n",
    "ax.plot(np.asarray(times), np.asarray(sensordata), label='timestep = {:2.2g}ms'.format(1000*dt))\n",
    "\n",
    "# finalize plot\n",
    "ax.set_title('Accelerometer values')\n",
    "ax.set_ylabel('meter/second^2')\n",
    "ax.set_xlabel('second')\n",
    "ax.legend(frameon=True, loc='lower right');\n",
    "plt.tight_layout()"
   ]
  },
  {
   "cell_type": "markdown",
   "metadata": {
    "id": "0YKSTtJ_BQ7x"
   },
   "source": [
    "Note how the moments when the body is hit by the bat are clearly visible in the accelerometer measurements."
   ]
  },
  {
   "cell_type": "markdown",
   "metadata": {
    "id": "1kOs1wTc7uCZ"
   },
   "source": [
    "# Advanced rendering\n",
    "\n",
    "Like joint visualization, additional rendering options are exposed as parameters to the `render` method.\n",
    "\n",
    "Let's bring back our first model:"
   ]
  },
  {
   "cell_type": "code",
   "execution_count": null,
   "metadata": {
    "id": "mTDgsk2xcgwH"
   },
   "outputs": [],
   "source": [
    "xml = \"\"\"\n",
    "<mujoco>\n",
    "  <worldbody>\n",
    "    <light name=\"top\" pos=\"0 0 1\"/>\n",
    "    <body name=\"box_and_sphere\" euler=\"0 0 -30\">\n",
    "      <joint name=\"swing\" type=\"hinge\" axis=\"1 -1 0\" pos=\"-.2 -.2 -.2\"/>\n",
    "      <geom name=\"red_box\" type=\"box\" size=\".2 .2 .2\" rgba=\"1 0 0 1\"/>\n",
    "      <geom name=\"green_sphere\" pos=\".2 .2 .2\" size=\".1\" rgba=\"0 1 0 1\"/>\n",
    "    </body>\n",
    "  </worldbody>\n",
    "</mujoco>\n",
    "\"\"\"\n",
    "model = mujoco.MjModel.from_xml_string(xml)\n",
    "renderer = mujoco.Renderer(model)\n",
    "data = mujoco.MjData(model)\n",
    "\n",
    "mujoco.mj_forward(model, data)\n",
    "renderer.update_scene(data)\n",
    "media.show_image(renderer.render())"
   ]
  },
  {
   "cell_type": "code",
   "execution_count": null,
   "metadata": {
    "id": "VePXamL_6XUc"
   },
   "outputs": [],
   "source": [
    "#@title Enable transparency and frame visualization\n",
    "\n",
    "scene_option.frame = mujoco.mjtFrame.mjFRAME_GEOM\n",
    "scene_option.flags[mujoco.mjtVisFlag.mjVIS_TRANSPARENT] = True\n",
    "renderer.update_scene(data, scene_option=scene_option)\n",
    "frame = renderer.render()\n",
    "media.show_image(frame)"
   ]
  },
  {
   "cell_type": "code",
   "execution_count": null,
   "metadata": {
    "id": "PVcpcvww9lZ8"
   },
   "outputs": [],
   "source": [
    "#@title Depth rendering\n",
    "\n",
    "# update renderer to render depth\n",
    "renderer.enable_depth_rendering()\n",
    "\n",
    "# reset the scene\n",
    "renderer.update_scene(data)\n",
    "\n",
    "# depth is a float array, in meters.\n",
    "depth = renderer.render()\n",
    "\n",
    "# Shift nearest values to the origin.\n",
    "depth -= depth.min()\n",
    "# Scale by 2 mean distances of near rays.\n",
    "depth /= 2*depth[depth <= 1].mean()\n",
    "# Scale to [0, 255]\n",
    "pixels = 255*np.clip(depth, 0, 1)\n",
    "\n",
    "media.show_image(pixels.astype(np.uint8))\n",
    "\n",
    "renderer.disable_depth_rendering()"
   ]
  },
  {
   "cell_type": "code",
   "execution_count": null,
   "metadata": {
    "id": "PNwiIrgpx7T8"
   },
   "outputs": [],
   "source": [
    "#@title Segmentation rendering\n",
    "\n",
    "# update renderer to render segmentation\n",
    "renderer.enable_segmentation_rendering()\n",
    "\n",
    "# reset the scene\n",
    "renderer.update_scene(data)\n",
    "\n",
    "seg = renderer.render()\n",
    "\n",
    "# Display the contents of the first channel, which contains object\n",
    "# IDs. The second channel, seg[:, :, 1], contains object types.\n",
    "geom_ids = seg[:, :, 0]\n",
    "# Infinity is mapped to -1\n",
    "geom_ids = geom_ids.astype(np.float64) + 1\n",
    "# Scale to [0, 1]\n",
    "geom_ids = geom_ids / geom_ids.max()\n",
    "pixels = 255*geom_ids\n",
    "media.show_image(pixels.astype(np.uint8))\n",
    "\n",
    "renderer.disable_segmentation_rendering()"
   ]
  },
  {
   "cell_type": "markdown",
   "metadata": {
    "id": "wo72mo0mGIXr"
   },
   "source": [
    "## The camera matrix\n",
    "\n",
    "For a description of the camera matrix see the article [Camera matrix](https://en.wikipedia.org/wiki/Camera_matrix) on Wikipedia."
   ]
  },
  {
   "cell_type": "code",
   "execution_count": null,
   "metadata": {
    "id": "sDYwClpxaxab"
   },
   "outputs": [],
   "source": [
    "def compute_camera_matrix(renderer, data):\n",
    "  \"\"\"Returns the 3x4 camera matrix.\"\"\"\n",
    "  # If the camera is a 'free' camera, we get its position and orientation\n",
    "  # from the scene data structure. It is a stereo camera, so we average over\n",
    "  # the left and right channels. Note: we call `self.update()` in order to\n",
    "  # ensure that the contents of `scene.camera` are correct.\n",
    "  renderer.update_scene(data)\n",
    "  pos = np.mean([camera.pos for camera in renderer.scene.camera], axis=0)\n",
    "  z = -np.mean([camera.forward for camera in renderer.scene.camera], axis=0)\n",
    "  y = np.mean([camera.up for camera in renderer.scene.camera], axis=0)\n",
    "  rot = np.vstack((np.cross(y, z), y, z))\n",
    "  fov = model.vis.global_.fovy\n",
    "\n",
    "  # Translation matrix (4x4).\n",
    "  translation = np.eye(4)\n",
    "  translation[0:3, 3] = -pos\n",
    "\n",
    "  # Rotation matrix (4x4).\n",
    "  rotation = np.eye(4)\n",
    "  rotation[0:3, 0:3] = rot\n",
    "\n",
    "  # Focal transformation matrix (3x4).\n",
    "  focal_scaling = (1./np.tan(np.deg2rad(fov)/2)) * renderer.height / 2.0\n",
    "  focal = np.diag([-focal_scaling, focal_scaling, 1.0, 0])[0:3, :]\n",
    "\n",
    "  # Image matrix (3x3).\n",
    "  image = np.eye(3)\n",
    "  image[0, 2] = (renderer.width - 1) / 2.0\n",
    "  image[1, 2] = (renderer.height - 1) / 2.0\n",
    "  return image @ focal @ rotation @ translation"
   ]
  },
  {
   "cell_type": "markdown",
   "metadata": {
    "id": "Bs89vS0wLoU0"
   },
   "source": [
    "Let's use the camera matrix to project from world to camera coordinates:"
   ]
  },
  {
   "cell_type": "code",
   "execution_count": null,
   "metadata": {
    "id": "My0N4_7PDJ_q"
   },
   "outputs": [],
   "source": [
    "# reset the scene\n",
    "renderer.update_scene(data)\n",
    "\n",
    "\n",
    "# Get the world coordinates of the box corners\n",
    "box_pos = data.geom_xpos[model.geom('red_box').id]\n",
    "box_mat = data.geom_xmat[model.geom('red_box').id].reshape(3, 3)\n",
    "box_size = model.geom_size[model.geom('red_box').id]\n",
    "offsets = np.array([-1, 1]) * box_size[:, None]\n",
    "xyz_local = np.stack(list(itertools.product(*offsets))).T\n",
    "xyz_global = box_pos[:, None] + box_mat @ xyz_local\n",
    "\n",
    "# Camera matrices multiply homogenous [x, y, z, 1] vectors.\n",
    "corners_homogeneous = np.ones((4, xyz_global.shape[1]), dtype=float)\n",
    "corners_homogeneous[:3, :] = xyz_global\n",
    "\n",
    "# Get the camera matrix.\n",
    "m = compute_camera_matrix(renderer, data)\n",
    "\n",
    "# Project world coordinates into pixel space. See:\n",
    "# https://en.wikipedia.org/wiki/3D_projection#Mathematical_formula\n",
    "xs, ys, s = m @ corners_homogeneous\n",
    "# x and y are in the pixel coordinate system.\n",
    "x = xs / s\n",
    "y = ys / s\n",
    "\n",
    "# Render the camera view and overlay the projected corner coordinates.\n",
    "pixels = renderer.render()\n",
    "fig, ax = plt.subplots(1, 1)\n",
    "ax.imshow(pixels)\n",
    "ax.plot(x, y, '+', c='w')\n",
    "ax.set_axis_off()"
   ]
  },
  {
   "cell_type": "markdown",
   "metadata": {
    "id": "AGm5-e0sHEAF"
   },
   "source": [
    "## Modifying the scene\n",
    "\n",
    "Let's add some arbitrary geometry to the `mjvScene`."
   ]
  },
  {
   "cell_type": "code",
   "execution_count": null,
   "metadata": {
    "id": "Z6NDYJ8IOVt7"
   },
   "outputs": [],
   "source": [
    "def get_geom_speed(model, data, geom_name):\n",
    "  \"\"\"Returns the speed of a geom.\"\"\"\n",
    "  geom_vel = np.zeros(6)\n",
    "  geom_type = mujoco.mjtObj.mjOBJ_GEOM\n",
    "  geom_id = data.geom(geom_name).id\n",
    "  mujoco.mj_objectVelocity(model, data, geom_type, geom_id, geom_vel, 0)\n",
    "  return np.linalg.norm(geom_vel)\n",
    "\n",
    "def add_visual_capsule(scene, point1, point2, radius, rgba):\n",
    "  \"\"\"Adds one capsule to an mjvScene.\"\"\"\n",
    "  if scene.ngeom >= scene.maxgeom:\n",
    "    return\n",
    "  scene.ngeom += 1  # increment ngeom\n",
    "  # initialise a new capsule, add it to the scene using mjv_makeConnector\n",
    "  mujoco.mjv_initGeom(scene.geoms[scene.ngeom-1],\n",
    "                      mujoco.mjtGeom.mjGEOM_CAPSULE, np.zeros(3),\n",
    "                      np.zeros(3), np.zeros(9), rgba.astype(np.float32))\n",
    "  mujoco.mjv_makeConnector(scene.geoms[scene.ngeom-1],\n",
    "                           mujoco.mjtGeom.mjGEOM_CAPSULE, radius,\n",
    "                           point1[0], point1[1], point1[2],\n",
    "                           point2[0], point2[1], point2[2])\n",
    "\n",
    " # traces of time, position and speed\n",
    "times = []\n",
    "positions = []\n",
    "speeds = []\n",
    "offset = model.jnt_axis[0]/8  # offset along the joint axis\n",
    "\n",
    "def modify_scene(scn):\n",
    "  \"\"\"Draw position trace, speed modifies width and colors.\"\"\"\n",
    "  if len(positions) > 1:\n",
    "    for i in range(len(positions)-1):\n",
    "      rgba=np.array((np.clip(speeds[i]/10, 0, 1),\n",
    "                     np.clip(1-speeds[i]/10, 0, 1),\n",
    "                     .5, 1.))\n",
    "      radius=.003*(1+speeds[i])\n",
    "      point1 = positions[i] + offset*times[i]\n",
    "      point2 = positions[i+1] + offset*times[i+1]\n",
    "      add_visual_capsule(scn, point1, point2, radius, rgba)\n",
    "\n",
    "duration = 6    # (seconds)\n",
    "framerate = 30  # (Hz)\n",
    "\n",
    "# Simulate and display video.\n",
    "frames = []\n",
    "\n",
    "# Reset state and time.\n",
    "mujoco.mj_resetData(model, data)\n",
    "mujoco.mj_forward(model, data)\n",
    "\n",
    "while data.time < duration:\n",
    "  # append data to the traces\n",
    "  positions.append(data.geom_xpos[data.geom(\"green_sphere\").id].copy())\n",
    "  times.append(data.time)\n",
    "  speeds.append(get_geom_speed(model, data, \"green_sphere\"))\n",
    "  mujoco.mj_step(model, data)\n",
    "  if len(frames) < data.time * framerate:\n",
    "    renderer.update_scene(data)\n",
    "    modify_scene(renderer.scene)\n",
    "    pixels = renderer.render()\n",
    "    frames.append(pixels)\n",
    "media.show_video(frames, fps=framerate)"
   ]
  }
 ],
 "metadata": {
  "accelerator": "GPU",
  "colab": {
   "collapsed_sections": [
    "-re3Szx-1Ias"
   ],
   "private_outputs": true,
   "provenance": [],
   "toc_visible": true
  },
  "gpuClass": "premium",
  "kernelspec": {
   "display_name": "Python 3 (ipykernel)",
   "language": "python",
   "name": "python3"
  },
  "language_info": {
   "codemirror_mode": {
    "name": "ipython",
    "version": 3
   },
   "file_extension": ".py",
   "mimetype": "text/x-python",
   "name": "python",
   "nbconvert_exporter": "python",
   "pygments_lexer": "ipython3",
   "version": "3.10.6"
  }
 },
 "nbformat": 4,
 "nbformat_minor": 1
}
