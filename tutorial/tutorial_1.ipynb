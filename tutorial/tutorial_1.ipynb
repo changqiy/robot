{
 "cells": [
  {
   "cell_type": "markdown",
   "metadata": {
    "id": "t0CF6Gvkt_Cw"
   },
   "source": [
    "# MuJoCo basics\n",
    "\n",
    "We begin by defining and loading a simple model:"
   ]
  },
  {
   "cell_type": "code",
   "execution_count": 1,
   "metadata": {},
   "outputs": [],
   "source": [
    "import mujoco\n",
    "import mediapy as media\n",
    "import matplotlib.pyplot as plt\n",
    "\n",
    "import time\n",
    "import itertools\n",
    "import numpy as np"
   ]
  },
  {
   "cell_type": "code",
   "execution_count": 2,
   "metadata": {
    "id": "3KJVqak6xdJa"
   },
   "outputs": [],
   "source": [
    "xml = \"\"\"\n",
    "<mujoco>\n",
    "  <worldbody>\n",
    "    <geom name=\"red_box\" type=\"box\" size=\".2 .2 .2\" rgba=\"1 0 0 1\"/>\n",
    "    <geom name=\"green_sphere\" pos=\".2 .2 .2\" size=\".1\" rgba=\"0 1 0 1\"/>\n",
    "  </worldbody>\n",
    "</mujoco>\n",
    "\"\"\"\n",
    "model = mujoco.MjModel.from_xml_string(xml)"
   ]
  },
  {
   "cell_type": "markdown",
   "metadata": {
    "id": "slhf39lGxvDI"
   },
   "source": [
    "The `xml` string is written in MuJoCo's [MJCF](http://www.mujoco.org/book/modeling.html), which is an [XML](https://en.wikipedia.org/wiki/XML#Key_terminology)-based modeling language.\n",
    "  - The only required element is `<mujoco>`. The smallest valid MJCF model is `<mujoco/>` which is a completely empty model.\n",
    "  - All physical elements live inside the `<worldbody>` which is always the top-level body and constitutes the global origin in Cartesian coordinates.\n",
    "  - We define two geoms in the world named `red_box` and `green_sphere`.\n",
    "  - **Question:** The `red_box` has no position, the `green_sphere` has no type, why is that?\n",
    "    - **Answer:** MJCF attributes have *default values*. The default position is `0 0 0`, the default geom type is `sphere`. The MJCF language is described in the documentation's [XML Reference chapter](https://mujoco.readthedocs.io/en/latest/XMLreference.html).\n",
    "\n",
    "The `from_xml_string()` method invokes the model compiler, which creates a binary `mjModel` instance."
   ]
  },
  {
   "cell_type": "markdown",
   "metadata": {
    "id": "gf9h_wi9weet"
   },
   "source": [
    "## mjModel\n",
    "\n",
    "MuJoCo's `mjModel`, contains the *model description*, i.e., all quantities which *do not change over time*. The complete description of `mjModel` can be found at the end of the header file [`mjmodel.h`](https://github.com/deepmind/mujoco/blob/main/include/mujoco/mjmodel.h). Note that the header files contain short, useful inline comments, describing each field.\n",
    "\n",
    "Examples of quantities that can be found in `mjModel` are `ngeom`, the number of geoms in the scene and `geom_rgba`, their respective colors:"
   ]
  },
  {
   "cell_type": "code",
   "execution_count": 3,
   "metadata": {
    "id": "F40Pe6DY3Q0g"
   },
   "outputs": [
    {
     "data": {
      "text/plain": [
       "2"
      ]
     },
     "execution_count": 3,
     "metadata": {},
     "output_type": "execute_result"
    }
   ],
   "source": [
    "model.ngeom"
   ]
  },
  {
   "cell_type": "code",
   "execution_count": 4,
   "metadata": {
    "id": "MOIJG9pzx8cA"
   },
   "outputs": [
    {
     "data": {
      "text/plain": [
       "array([[1., 0., 0., 1.],\n",
       "       [0., 1., 0., 1.]], dtype=float32)"
      ]
     },
     "execution_count": 4,
     "metadata": {},
     "output_type": "execute_result"
    }
   ],
   "source": [
    "model.geom_rgba"
   ]
  },
  {
   "cell_type": "markdown",
   "metadata": {
    "id": "bzcLjdY23Kvp"
   },
   "source": [
    "## Named access\n",
    "\n",
    "The MuJoCo Python bindings provide convenient [accessors](https://mujoco.readthedocs.io/en/latest/python.html#named-access) using names. Calling the `model.geom()` accessor without a name string generates a convenient error that tells us what the valid names are."
   ]
  },
  {
   "cell_type": "code",
   "execution_count": 5,
   "metadata": {
    "id": "9AuTwbLFyJxQ"
   },
   "outputs": [
    {
     "name": "stdout",
     "output_type": "stream",
     "text": [
      "\"Invalid name ''. Valid names: ['green_sphere', 'red_box']\"\n"
     ]
    }
   ],
   "source": [
    "try:\n",
    "  model.geom()\n",
    "except KeyError as e:\n",
    "  print(e)"
   ]
  },
  {
   "cell_type": "markdown",
   "metadata": {
    "id": "qkfLK3h2zrqr"
   },
   "source": [
    "Calling the named accessor without specifying a property will tell us what all the valid properties are:"
   ]
  },
  {
   "cell_type": "code",
   "execution_count": 6,
   "metadata": {
    "id": "9X95TlWnyEEw"
   },
   "outputs": [
    {
     "data": {
      "text/plain": [
       "<_MjModelGeomViews\n",
       "  bodyid: array([0], dtype=int32)\n",
       "  conaffinity: array([1], dtype=int32)\n",
       "  condim: array([3], dtype=int32)\n",
       "  contype: array([1], dtype=int32)\n",
       "  dataid: array([-1], dtype=int32)\n",
       "  friction: array([1.e+00, 5.e-03, 1.e-04])\n",
       "  gap: array([0.])\n",
       "  group: array([0], dtype=int32)\n",
       "  id: 1\n",
       "  margin: array([0.])\n",
       "  matid: array([-1], dtype=int32)\n",
       "  name: 'green_sphere'\n",
       "  pos: array([0.2, 0.2, 0.2])\n",
       "  priority: array([0], dtype=int32)\n",
       "  quat: array([1., 0., 0., 0.])\n",
       "  rbound: array([0.1])\n",
       "  rgba: array([0., 1., 0., 1.], dtype=float32)\n",
       "  sameframe: array([0], dtype=uint8)\n",
       "  size: array([0.1, 0. , 0. ])\n",
       "  solimp: array([9.0e-01, 9.5e-01, 1.0e-03, 5.0e-01, 2.0e+00])\n",
       "  solmix: array([1.])\n",
       "  solref: array([0.02, 1.  ])\n",
       "  type: array([2], dtype=int32)\n",
       "  user: array([], dtype=float64)\n",
       ">"
      ]
     },
     "execution_count": 6,
     "metadata": {},
     "output_type": "execute_result"
    }
   ],
   "source": [
    "model.geom('green_sphere')"
   ]
  },
  {
   "cell_type": "markdown",
   "metadata": {
    "id": "mS9qDLevKsJq"
   },
   "source": [
    "Let's read the `green_sphere`'s rgba values:"
   ]
  },
  {
   "cell_type": "code",
   "execution_count": 7,
   "metadata": {
    "id": "xsBlJAV7zpHb"
   },
   "outputs": [
    {
     "data": {
      "text/plain": [
       "array([0., 1., 0., 1.], dtype=float32)"
      ]
     },
     "execution_count": 7,
     "metadata": {},
     "output_type": "execute_result"
    }
   ],
   "source": [
    "model.geom('green_sphere').rgba"
   ]
  },
  {
   "cell_type": "markdown",
   "metadata": {
    "id": "8a8hswjjKyIa"
   },
   "source": [
    "This functionality is a convenience shortcut for MuJoCo's [`mj_name2id`](https://mujoco.readthedocs.io/en/latest/APIreference.html?highlight=mj_name2id#mj-name2id) function:"
   ]
  },
  {
   "cell_type": "code",
   "execution_count": 8,
   "metadata": {
    "id": "Ng92hNUoKnVq"
   },
   "outputs": [
    {
     "data": {
      "text/plain": [
       "array([0., 1., 0., 1.], dtype=float32)"
      ]
     },
     "execution_count": 8,
     "metadata": {},
     "output_type": "execute_result"
    }
   ],
   "source": [
    "id = mujoco.mj_name2id(model, mujoco.mjtObj.mjOBJ_GEOM, 'green_sphere')\n",
    "model.geom_rgba[id, :]"
   ]
  },
  {
   "cell_type": "markdown",
   "metadata": {
    "id": "5WL_SaJPLl3r"
   },
   "source": [
    "Similarly, the read-only `id` and `name` properties can be used to convert from id to name and back:"
   ]
  },
  {
   "cell_type": "code",
   "execution_count": 9,
   "metadata": {
    "id": "2CbGSmRZeE5p"
   },
   "outputs": [
    {
     "name": "stdout",
     "output_type": "stream",
     "text": [
      "id of \"green_sphere\":  1\n",
      "name of geom 1:  green_sphere\n",
      "name of body 0:  world\n"
     ]
    }
   ],
   "source": [
    "print('id of \"green_sphere\": ', model.geom('green_sphere').id)\n",
    "print('name of geom 1: ', model.geom(1).name)\n",
    "print('name of body 0: ', model.body(0).name)"
   ]
  },
  {
   "cell_type": "markdown",
   "metadata": {
    "id": "3RIizubaL_du"
   },
   "source": [
    "Note that the 0th body is always the `world`. It cannot be renamed.\n",
    "\n",
    "The `id` and `name` attributes are useful in Python comprehensions:"
   ]
  },
  {
   "cell_type": "code",
   "execution_count": 10,
   "metadata": {
    "id": "m3MtIE5F1K7s"
   },
   "outputs": [
    {
     "data": {
      "text/plain": [
       "['red_box', 'green_sphere']"
      ]
     },
     "execution_count": 10,
     "metadata": {},
     "output_type": "execute_result"
    }
   ],
   "source": [
    "[model.geom(i).name for i in range(model.ngeom)]"
   ]
  },
  {
   "cell_type": "markdown",
   "metadata": {
    "id": "t5hY0fyXFLcf"
   },
   "source": [
    "## `mjData`\n",
    "`mjData` contains the *state* and quantities that depend on it. The state is made up of time, [generalized](https://en.wikipedia.org/wiki/Generalized_coordinates) positions and generalized velocities. These are respectively `data.time`, `data.qpos` and `data.qvel`. In order to make a new `mjData`, all we need is our `mjModel`"
   ]
  },
  {
   "cell_type": "code",
   "execution_count": 11,
   "metadata": {
    "id": "FV2Hy6m948nr"
   },
   "outputs": [],
   "source": [
    "data = mujoco.MjData(model)"
   ]
  },
  {
   "cell_type": "markdown",
   "metadata": {
    "id": "-KmNuvlJ46u0"
   },
   "source": [
    "`mjData` also contains *functions of the state*, for example the Cartesian positions of objects in the world frame. The (x, y, z) positions of our two geoms are in `data.geom_xpos`:"
   ]
  },
  {
   "cell_type": "code",
   "execution_count": 12,
   "metadata": {
    "id": "CPwDcAQ0-uUE"
   },
   "outputs": [
    {
     "name": "stdout",
     "output_type": "stream",
     "text": [
      "[[0. 0. 0.]\n",
      " [0. 0. 0.]]\n"
     ]
    }
   ],
   "source": [
    "print(data.geom_xpos)"
   ]
  },
  {
   "cell_type": "markdown",
   "metadata": {
    "id": "Sjst5xGXX3sr"
   },
   "source": [
    "Wait, why are both of our geoms at the origin? Didn't we offset the green sphere? The answer is that derived quantities in `mjData` need to be explicitly propagated (see [below](#scrollTo=QY1gpms1HXeN)). In our case, the minimal required function is [`mj_kinematics`](https://mujoco.readthedocs.io/en/latest/APIreference.html#mj-kinematics), which computes global Cartesian poses for all objects (excluding cameras and lights)."
   ]
  },
  {
   "cell_type": "code",
   "execution_count": 13,
   "metadata": {
    "id": "tfe0YeZRYNTr"
   },
   "outputs": [
    {
     "name": "stdout",
     "output_type": "stream",
     "text": [
      "raw access:\n",
      " [[0.  0.  0. ]\n",
      " [0.2 0.2 0.2]]\n",
      "\n",
      "named access:\n",
      " [0.2 0.2 0.2]\n"
     ]
    }
   ],
   "source": [
    "mujoco.mj_kinematics(model, data)\n",
    "print('raw access:\\n', data.geom_xpos)\n",
    "\n",
    "# MjData also supports named access:\n",
    "print('\\nnamed access:\\n', data.geom('green_sphere').xpos)"
   ]
  },
  {
   "cell_type": "markdown",
   "metadata": {
    "id": "eU7uWNsTwmcZ"
   },
   "source": [
    "# Basic rendering, simulation, and animation\n",
    "\n",
    "In order to render we'll need to instantiate a `Renderer` object and call its `render` method.\n",
    "\n",
    "We'll also reload our model to make the colab's sections independent."
   ]
  },
  {
   "cell_type": "code",
   "execution_count": 14,
   "metadata": {
    "id": "xK3c0-UDxMrN"
   },
   "outputs": [
    {
     "data": {
      "text/html": [
       "<table class=\"show_images\" style=\"border-spacing:0px;\"><tr><td style=\"padding:1px;\"><img width=\"320\" height=\"240\" style=\"image-rendering:auto; object-fit:cover;\" src=\"data:image/png;base64,iVBORw0KGgoAAAANSUhEUgAAAUAAAADwCAIAAAD+Tyo8AAAA9UlEQVR4nO3BAQEAAACCIP+vbkhAAQAAAAAAAAAAAAAAAAAAAAAAAAAAAAAAAAAAAAAAAAAAAAAAAAAAAAAAAAAAAAAAAAAAAAAAAAAAAAAAAAAAAAAAAAAAAAAAAAAAAAAAAAAAAAAAAAAAAAAAAAAAAAAAAAAAAAAAAAAAAAAAAAAAAAAAAAAAAAAAAAAAAAAAAAAAAAAAAAAAAAAAAAAAAAAAAAAAAAAAAAAAAAAAAAAAAAAAAAAAAAAAAAAAAAAAAAAAAAAAAAAAAAAAAAAAAAAAAAAAAAAAAAAAAAAAAAAAAAAAAAAAAAAAAAAAAAAAAPBohR0AAXbPpmUAAAAASUVORK5CYII=\"/></td></tr></table>"
      ],
      "text/plain": [
       "<IPython.core.display.HTML object>"
      ]
     },
     "metadata": {},
     "output_type": "display_data"
    }
   ],
   "source": [
    "xml = \"\"\"\n",
    "<mujoco>\n",
    "  <worldbody>\n",
    "    <light name=\"top\" pos=\"0 0 1\"/>\n",
    "    <geom name=\"red_box\" type=\"box\" size=\".2 .2 .2\" rgba=\"1 0 0 1\"/>\n",
    "    <geom name=\"green_sphere\" pos=\".2 .2 .2\" size=\".1\" rgba=\"0 1 0 1\"/>\n",
    "  </worldbody>\n",
    "</mujoco>\n",
    "\"\"\"\n",
    "#\n",
    "# Make model and data\n",
    "model = mujoco.MjModel.from_xml_string(xml)\n",
    "data = mujoco.MjData(model)\n",
    "\n",
    "# Make renderer, render and show the pixels\n",
    "renderer = mujoco.Renderer(model)\n",
    "media.show_image(renderer.render())"
   ]
  },
  {
   "cell_type": "markdown",
   "metadata": {
    "id": "ZkFSHeYGxlT5"
   },
   "source": [
    "Hmmm, why the black pixels?\n",
    "\n",
    "**Answer:** For the same reason as above, we first need to propagate the values in `mjData`. This time we'll call [`mj_forward`](https://mujoco.readthedocs.io/en/latest/APIreference.html#mj-forward), which invokes the entire pipeline up to the computation of accelerations i.e., it computes $\\dot x = f(x)$, where $x$ is the state. This function does more than we actually need, but unless we care about saving computation time, it's good practice to call `mj_forward` since then we know we are not missing anything.\n",
    "\n",
    "We also need to update the `mjvScene` which is an object held by the renderer describing the visual scene. We'll later see that the scene can include visual objects which are not part of the physical model."
   ]
  },
  {
   "cell_type": "code",
   "execution_count": 15,
   "metadata": {
    "id": "pvh47r97huS4"
   },
   "outputs": [
    {
     "data": {
      "text/html": [
       "<table class=\"show_images\" style=\"border-spacing:0px;\"><tr><td style=\"padding:1px;\"><img width=\"320\" height=\"240\" style=\"image-rendering:auto; object-fit:cover;\" src=\"data:image/png;base64,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\"/></td></tr></table>"
      ],
      "text/plain": [
       "<IPython.core.display.HTML object>"
      ]
     },
     "metadata": {},
     "output_type": "display_data"
    }
   ],
   "source": [
    "mujoco.mj_forward(model, data)\n",
    "renderer.update_scene(data)\n",
    "\n",
    "media.show_image(renderer.render())"
   ]
  },
  {
   "cell_type": "markdown",
   "metadata": {
    "id": "-P95E-QHizQq"
   },
   "source": [
    "# Simulation\n",
    "\n",
    "Now let's simulate and make a video. We'll use MuJoCo's main high level function `mj_step`, which steps the state $x_{t+h} = f(x_t)$.\n",
    "\n",
    "Note that in the code block below we are *not* rendering after each call to `mj_step`. This is because the default timestep is 2ms, and we want a 60fps video, not 500fps."
   ]
  },
  {
   "cell_type": "code",
   "execution_count": 16,
   "metadata": {
    "id": "NdVnHOYisiKl"
   },
   "outputs": [
    {
     "data": {
      "text/html": [
       "<table class=\"show_videos\" style=\"border-spacing:0px;\"><tr><td style=\"padding:1px;\"><video controls width=\"320\" height=\"240\" style=\"object-fit:cover;\" loop autoplay muted>\n",
       "      <source src=\"data:video/mp4;base64,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\" type=\"video/mp4\"/>\n",
       "      This browser does not support the video tag.\n",
       "      </video></td></tr></table>"
      ],
      "text/plain": [
       "<IPython.core.display.HTML object>"
      ]
     },
     "metadata": {},
     "output_type": "display_data"
    }
   ],
   "source": [
    "duration = 3.8  # (seconds)\n",
    "framerate = 60  # (Hz)\n",
    "\n",
    "# Simulate and display video.\n",
    "frames = []\n",
    "mujoco.mj_resetData(model, data)  # Reset state and time.\n",
    "while data.time < duration:\n",
    "  mujoco.mj_step(model, data)\n",
    "  if len(frames) < data.time * framerate:\n",
    "    renderer.update_scene(data)\n",
    "    pixels = renderer.render()\n",
    "    frames.append(pixels)\n",
    "media.show_video(frames, fps=framerate)"
   ]
  },
  {
   "cell_type": "markdown",
   "metadata": {
    "id": "-P95E-QHizQq"
   },
   "source": [
    "But isn't anything moving?"
   ]
  }
 ],
 "metadata": {
  "accelerator": "GPU",
  "colab": {
   "collapsed_sections": [
    "-re3Szx-1Ias"
   ],
   "private_outputs": true,
   "provenance": [],
   "toc_visible": true
  },
  "gpuClass": "premium",
  "kernelspec": {
   "display_name": "Python 3 (ipykernel)",
   "language": "python",
   "name": "python3"
  },
  "language_info": {
   "codemirror_mode": {
    "name": "ipython",
    "version": 3
   },
   "file_extension": ".py",
   "mimetype": "text/x-python",
   "name": "python",
   "nbconvert_exporter": "python",
   "pygments_lexer": "ipython3",
   "version": "3.9.17"
  }
 },
 "nbformat": 4,
 "nbformat_minor": 1
}
